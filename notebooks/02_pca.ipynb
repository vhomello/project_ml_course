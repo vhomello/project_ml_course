{
 "cells": [
  {
   "cell_type": "code",
   "execution_count": null,
   "id": "f830b7b8",
   "metadata": {},
   "outputs": [],
   "source": [
    "import lightgbm as lgbm"
   ]
  },
  {
   "cell_type": "code",
   "execution_count": null,
   "id": "327886e6",
   "metadata": {},
   "outputs": [],
   "source": [
    "from sklearn.metrics import roc_auc_score\n",
    "from sklearn.model_selection import train_test_split\n",
    "\n",
    "# Supondo que seu DataFrame seja chamado df\n",
    "# Separar as features e o target\n",
    "X = df.drop(\"class\", axis=1)\n",
    "y = df[\"class\"]\n",
    "\n",
    "# Dividir em conjunto de treino e teste\n",
    "X_train, X_test, y_train, y_test = train_test_split(\n",
    "    X, y, test_size=0.2, random_state=42\n",
    ")\n",
    "\n",
    "# Criar o modelo LightGBM\n",
    "model = lgbm.LGBMClassifier()\n",
    "\n",
    "# Treinar o modelo\n",
    "model.fit(X_train, y_train)\n",
    "\n",
    "# Fazer predições\n",
    "y_pred = model.predict(X_test)\n",
    "\n",
    "# Avaliar\n",
    "accuracy = roc_auc_score(y_test, y_pred)\n",
    "print(f\"Acurácia: {accuracy:.4f}\")"
   ]
  }
 ],
 "metadata": {
  "language_info": {
   "name": "python"
  }
 },
 "nbformat": 4,
 "nbformat_minor": 5
}
