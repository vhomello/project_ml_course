{
 "cells": [
  {
   "cell_type": "code",
   "execution_count": null,
   "id": "5fe54e5b",
   "metadata": {},
   "outputs": [],
   "source": [
    "import pandas as pd\n",
    "import numpy as np\n",
    "\n",
    "from sklearn.svm import SVC\n",
    "from sklearn.pipeline import Pipeline\n",
    "from sklearn.preprocessing import StandardScaler\n",
    "from sklearn.decomposition import PCA\n",
    "from sklearn.metrics import f1_score\n",
    "from sklearn.model_selection import train_test_split\n",
    "\n",
    "from project_ml_course.data_process import filter_columns_by_correlation_threshold"
   ]
  },
  {
   "cell_type": "code",
   "execution_count": 2,
   "id": "a49d7093",
   "metadata": {},
   "outputs": [],
   "source": [
    "raw_df = pd.read_csv(\"../data/dados.csv\", index_col=\"Unnamed: 0\")\n",
    "\n",
    "df = filter_columns_by_correlation_threshold(\n",
    "    df=raw_df,\n",
    "    ref_col=\"class\",\n",
    "    method_type=\"pearson\",\n",
    "    lower_threshold=0.001,\n",
    "    higher_threshold=0.999,\n",
    ")"
   ]
  },
  {
   "cell_type": "code",
   "execution_count": 3,
   "id": "b0cf8b2c",
   "metadata": {},
   "outputs": [],
   "source": [
    "X = df.drop(columns=[\"class\"])\n",
    "y = df[\"class\"]\n",
    "\n",
    "# Separar treino e teste\n",
    "X_train, X_test, y_train, y_test = train_test_split(\n",
    "    X, y, test_size=0.2, random_state=42, stratify=y\n",
    ")"
   ]
  },
  {
   "cell_type": "code",
   "execution_count": 17,
   "id": "56477f15",
   "metadata": {},
   "outputs": [
    {
     "name": "stdout",
     "output_type": "stream",
     "text": [
      "[SVM] Melhor ponto de corte: 0.60\n",
      "[SVM] Melhor F1 score: 0.9657\n"
     ]
    }
   ],
   "source": [
    "# Pipeline com SVM (kernel não linear) após PCA\n",
    "pipe_svm = Pipeline(\n",
    "    [\n",
    "        (\"scaler\", StandardScaler(with_std=False)),\n",
    "        (\"pca\", PCA(n_components=3, random_state=42)),\n",
    "        (\n",
    "            \"svm\",\n",
    "            SVC(\n",
    "                kernel=\"rbf\", probability=True, class_weight=\"balanced\", random_state=42\n",
    "            ),\n",
    "        ),\n",
    "    ]\n",
    ")\n",
    "\n",
    "pipe_svm.fit(X_train, y_train)\n",
    "y_proba_svm = pipe_svm.predict_proba(X_test)[:, 1]\n",
    "\n",
    "# Otimização do ponto de corte para F1 para SVM\n",
    "thresholds_svm = np.arange(0, 1.01, 0.01)\n",
    "f1_scores_svm = [f1_score(y_test, y_proba_svm >= t) for t in thresholds_svm]\n",
    "best_idx_svm = np.argmax(f1_scores_svm)\n",
    "best_threshold_svm = thresholds_svm[best_idx_svm]\n",
    "best_f1_svm = f1_scores_svm[best_idx_svm]\n",
    "\n",
    "print(f\"[SVM] Melhor ponto de corte: {best_threshold_svm:.2f}\")\n",
    "print(f\"[SVM] Melhor F1 score: {best_f1_svm:.4f}\")\n"
   ]
  },
  {
   "cell_type": "code",
   "execution_count": 18,
   "id": "2dec7dfd",
   "metadata": {},
   "outputs": [
    {
     "name": "stdout",
     "output_type": "stream",
     "text": [
      "[SVM] F1 score: 0.9429\n"
     ]
    }
   ],
   "source": [
    "# Pipeline com SVM (kernel não linear) após PCA\n",
    "pipe_svm = Pipeline(\n",
    "    [\n",
    "        (\"scaler\", StandardScaler(with_std=False)),\n",
    "        (\"pca\", PCA(n_components=3, random_state=42)),\n",
    "        (\"svm\", SVC(kernel=\"rbf\", probability=True, random_state=42)),\n",
    "    ]\n",
    ")\n",
    "\n",
    "pipe_svm.fit(X_train, y_train)\n",
    "y_pred = pipe_svm.predict(X_test)\n",
    "\n",
    "f1_scores_svm = f1_score(y_test, y_pred)\n",
    "\n",
    "print(f\"[SVM] F1 score: {f1_scores_svm:.4f}\")"
   ]
  },
  {
   "cell_type": "code",
   "execution_count": 13,
   "id": "12bc7181",
   "metadata": {},
   "outputs": [
    {
     "data": {
      "application/vnd.plotly.v1+json": {
       "config": {
        "plotlyServerURL": "https://plot.ly"
       },
       "data": [
        {
         "marker": {
          "color": [
           "blue",
           "blue",
           "blue",
           "blue",
           "blue",
           "red",
           "blue",
           "blue",
           "blue",
           "red",
           "red",
           "blue",
           "red",
           "red",
           "blue",
           "red",
           "red",
           "red",
           "red",
           "blue",
           "blue",
           "red",
           "red",
           "blue",
           "blue",
           "blue",
           "blue",
           "blue",
           "blue",
           "blue",
           "blue",
           "blue",
           "red",
           "blue",
           "red",
           "blue",
           "red",
           "red",
           "blue",
           "blue",
           "blue",
           "blue",
           "red",
           "blue",
           "blue",
           "red",
           "blue",
           "blue",
           "red",
           "blue",
           "blue",
           "red",
           "red",
           "red",
           "red",
           "blue",
           "blue",
           "blue",
           "blue",
           "blue",
           "red",
           "blue",
           "blue",
           "red",
           "blue",
           "red",
           "blue",
           "blue",
           "blue",
           "red",
           "blue",
           "red",
           "red",
           "red",
           "blue",
           "red",
           "blue",
           "blue",
           "red",
           "red",
           "blue",
           "blue",
           "red",
           "blue",
           "blue",
           "blue",
           "blue",
           "blue",
           "blue",
           "blue",
           "blue",
           "blue",
           "blue",
           "red",
           "blue",
           "blue",
           "red",
           "blue",
           "blue",
           "blue",
           "blue",
           "red",
           "blue",
           "blue",
           "blue",
           "blue",
           "blue",
           "blue",
           "blue",
           "blue",
           "red",
           "red",
           "blue",
           "blue",
           "blue",
           "blue",
           "red",
           "red",
           "blue",
           "red",
           "blue",
           "red",
           "blue",
           "blue",
           "red",
           "blue",
           "red",
           "blue",
           "red",
           "red",
           "blue",
           "blue",
           "red",
           "blue",
           "red",
           "blue",
           "red",
           "blue",
           "blue",
           "blue",
           "red",
           "blue",
           "red",
           "red",
           "blue",
           "blue",
           "red",
           "red",
           "red",
           "red",
           "red",
           "blue",
           "red",
           "red",
           "red",
           "blue",
           "blue",
           "blue",
           "red",
           "blue",
           "blue",
           "blue",
           "blue",
           "blue",
           "red",
           "blue",
           "blue",
           "blue",
           "blue",
           "red",
           "blue",
           "red",
           "blue",
           "blue",
           "red",
           "red",
           "blue",
           "red",
           "blue",
           "blue",
           "blue",
           "blue",
           "red",
           "red",
           "blue",
           "blue",
           "red",
           "red",
           "blue",
           "blue",
           "blue",
           "blue",
           "blue",
           "blue",
           "blue",
           "red",
           "red",
           "red",
           "red",
           "red",
           "red",
           "blue",
           "red",
           "blue",
           "blue",
           "red",
           "blue",
           "red",
           "red",
           "blue",
           "blue",
           "red",
           "blue",
           "blue",
           "red",
           "red",
           "blue",
           "blue",
           "blue",
           "blue",
           "blue",
           "blue",
           "blue",
           "blue",
           "red",
           "blue",
           "red",
           "red",
           "red",
           "blue",
           "red",
           "red",
           "blue",
           "blue",
           "blue",
           "blue",
           "red",
           "blue",
           "red",
           "blue",
           "red",
           "red",
           "blue",
           "red",
           "blue",
           "blue",
           "blue",
           "red",
           "red",
           "blue",
           "blue",
           "red",
           "blue",
           "red",
           "blue",
           "blue",
           "red",
           "blue",
           "blue",
           "red",
           "blue",
           "red",
           "blue",
           "blue",
           "red",
           "blue",
           "blue",
           "blue",
           "blue",
           "blue",
           "blue",
           "blue",
           "red",
           "red",
           "blue",
           "blue",
           "blue",
           "blue",
           "red",
           "blue",
           "blue",
           "red",
           "red",
           "blue",
           "blue",
           "red",
           "blue",
           "blue",
           "blue",
           "red",
           "blue",
           "red",
           "red",
           "red",
           "blue",
           "blue",
           "blue",
           "red",
           "red",
           "red",
           "red",
           "blue",
           "blue",
           "blue",
           "red",
           "blue",
           "red",
           "red",
           "blue",
           "blue",
           "red",
           "blue",
           "red",
           "blue",
           "blue",
           "red",
           "blue",
           "blue",
           "blue",
           "red",
           "blue",
           "red",
           "red",
           "red",
           "blue",
           "red",
           "red",
           "blue",
           "blue",
           "red",
           "blue",
           "red",
           "blue",
           "red",
           "blue",
           "red",
           "blue",
           "red",
           "blue",
           "red",
           "blue",
           "blue",
           "red",
           "red",
           "blue",
           "blue",
           "red",
           "blue",
           "red",
           "blue",
           "blue",
           "red",
           "blue",
           "blue",
           "red",
           "blue",
           "blue",
           "blue",
           "red",
           "red",
           "red",
           "blue",
           "blue",
           "blue",
           "red",
           "blue",
           "blue",
           "red",
           "red",
           "blue",
           "blue",
           "red",
           "blue",
           "blue",
           "blue",
           "red",
           "blue",
           "blue",
           "blue",
           "blue",
           "red",
           "blue",
           "blue",
           "blue",
           "blue",
           "blue",
           "red",
           "blue",
           "red",
           "blue",
           "blue",
           "blue",
           "blue",
           "blue",
           "blue",
           "blue",
           "red",
           "red",
           "red",
           "blue",
           "blue",
           "red",
           "blue",
           "red",
           "blue",
           "blue",
           "blue",
           "blue",
           "blue",
           "blue",
           "blue",
           "blue",
           "blue",
           "blue",
           "blue",
           "red",
           "red",
           "red",
           "blue",
           "red"
          ],
          "line": {
           "color": "black",
           "width": 1
          },
          "size": 7,
          "symbol": [
           "circle",
           "circle",
           "circle",
           "circle",
           "circle",
           "diamond",
           "circle",
           "circle",
           "circle",
           "diamond",
           "diamond",
           "circle",
           "diamond",
           "diamond",
           "circle",
           "diamond",
           "diamond",
           "diamond",
           "diamond",
           "circle",
           "circle",
           "diamond",
           "diamond",
           "circle",
           "circle",
           "circle",
           "circle",
           "circle",
           "circle",
           "circle",
           "circle",
           "circle",
           "diamond",
           "circle",
           "diamond",
           "circle",
           "diamond",
           "diamond",
           "circle",
           "circle",
           "circle",
           "circle",
           "diamond",
           "circle",
           "circle",
           "diamond",
           "circle",
           "circle",
           "diamond",
           "circle",
           "circle",
           "diamond",
           "circle",
           "diamond",
           "diamond",
           "circle",
           "circle",
           "circle",
           "circle",
           "circle",
           "diamond",
           "circle",
           "circle",
           "diamond",
           "circle",
           "diamond",
           "circle",
           "circle",
           "circle",
           "diamond",
           "circle",
           "circle",
           "diamond",
           "diamond",
           "circle",
           "diamond",
           "circle",
           "circle",
           "diamond",
           "diamond",
           "circle",
           "circle",
           "diamond",
           "circle",
           "circle",
           "circle",
           "circle",
           "circle",
           "circle",
           "circle",
           "circle",
           "diamond",
           "circle",
           "diamond",
           "circle",
           "circle",
           "diamond",
           "circle",
           "circle",
           "circle",
           "circle",
           "diamond",
           "circle",
           "circle",
           "circle",
           "circle",
           "circle",
           "circle",
           "circle",
           "circle",
           "diamond",
           "diamond",
           "circle",
           "circle",
           "circle",
           "circle",
           "diamond",
           "diamond",
           "circle",
           "diamond",
           "circle",
           "diamond",
           "circle",
           "circle",
           "diamond",
           "diamond",
           "diamond",
           "circle",
           "diamond",
           "diamond",
           "circle",
           "circle",
           "diamond",
           "circle",
           "diamond",
           "circle",
           "diamond",
           "circle",
           "circle",
           "circle",
           "diamond",
           "circle",
           "diamond",
           "diamond",
           "circle",
           "circle",
           "diamond",
           "diamond",
           "diamond",
           "diamond",
           "diamond",
           "circle",
           "diamond",
           "diamond",
           "diamond",
           "circle",
           "circle",
           "circle",
           "diamond",
           "circle",
           "circle",
           "circle",
           "circle",
           "circle",
           "diamond",
           "circle",
           "circle",
           "circle",
           "circle",
           "diamond",
           "circle",
           "circle",
           "circle",
           "circle",
           "diamond",
           "diamond",
           "circle",
           "diamond",
           "circle",
           "circle",
           "circle",
           "circle",
           "diamond",
           "diamond",
           "circle",
           "circle",
           "diamond",
           "diamond",
           "circle",
           "circle",
           "circle",
           "circle",
           "circle",
           "circle",
           "circle",
           "diamond",
           "diamond",
           "diamond",
           "diamond",
           "diamond",
           "diamond",
           "diamond",
           "diamond",
           "circle",
           "circle",
           "diamond",
           "circle",
           "diamond",
           "diamond",
           "circle",
           "circle",
           "diamond",
           "circle",
           "circle",
           "diamond",
           "diamond",
           "circle",
           "circle",
           "circle",
           "circle",
           "circle",
           "circle",
           "circle",
           "circle",
           "diamond",
           "circle",
           "diamond",
           "diamond",
           "diamond",
           "circle",
           "diamond",
           "diamond",
           "circle",
           "circle",
           "circle",
           "circle",
           "diamond",
           "circle",
           "diamond",
           "circle",
           "diamond",
           "diamond",
           "circle",
           "diamond",
           "circle",
           "circle",
           "circle",
           "diamond",
           "diamond",
           "circle",
           "circle",
           "diamond",
           "circle",
           "diamond",
           "diamond",
           "circle",
           "diamond",
           "circle",
           "circle",
           "diamond",
           "circle",
           "diamond",
           "circle",
           "circle",
           "diamond",
           "circle",
           "circle",
           "circle",
           "circle",
           "circle",
           "circle",
           "diamond",
           "diamond",
           "diamond",
           "circle",
           "circle",
           "circle",
           "circle",
           "diamond",
           "circle",
           "circle",
           "diamond",
           "diamond",
           "circle",
           "circle",
           "diamond",
           "circle",
           "circle",
           "circle",
           "diamond",
           "circle",
           "diamond",
           "diamond",
           "diamond",
           "circle",
           "circle",
           "circle",
           "diamond",
           "diamond",
           "diamond",
           "diamond",
           "circle",
           "circle",
           "circle",
           "diamond",
           "circle",
           "diamond",
           "diamond",
           "circle",
           "circle",
           "diamond",
           "circle",
           "diamond",
           "circle",
           "circle",
           "diamond",
           "circle",
           "circle",
           "circle",
           "circle",
           "circle",
           "diamond",
           "diamond",
           "diamond",
           "circle",
           "diamond",
           "diamond",
           "circle",
           "circle",
           "diamond",
           "circle",
           "diamond",
           "circle",
           "diamond",
           "circle",
           "diamond",
           "circle",
           "diamond",
           "circle",
           "diamond",
           "circle",
           "circle",
           "diamond",
           "diamond",
           "circle",
           "circle",
           "diamond",
           "circle",
           "diamond",
           "circle",
           "circle",
           "diamond",
           "circle",
           "circle",
           "diamond",
           "circle",
           "circle",
           "circle",
           "diamond",
           "diamond",
           "diamond",
           "circle",
           "circle",
           "circle",
           "diamond",
           "circle",
           "circle",
           "diamond",
           "diamond",
           "circle",
           "circle",
           "diamond",
           "circle",
           "circle",
           "circle",
           "circle",
           "circle",
           "circle",
           "circle",
           "circle",
           "diamond",
           "circle",
           "circle",
           "circle",
           "circle",
           "circle",
           "diamond",
           "circle",
           "diamond",
           "circle",
           "circle",
           "circle",
           "circle",
           "circle",
           "circle",
           "circle",
           "circle",
           "diamond",
           "diamond",
           "circle",
           "circle",
           "diamond",
           "circle",
           "diamond",
           "circle",
           "circle",
           "circle",
           "circle",
           "circle",
           "circle",
           "circle",
           "circle",
           "circle",
           "circle",
           "circle",
           "diamond",
           "diamond",
           "diamond",
           "circle",
           "diamond"
          ]
         },
         "mode": "markers",
         "name": "Test points (shape=target, color=SVM pred)",
         "type": "scatter3d",
         "x": {
          "bdata": "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",
          "dtype": "f8"
         },
         "y": {
          "bdata": "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",
          "dtype": "f8"
         },
         "z": {
          "bdata": "ddD12oniEUB37yzZzGjov+Y33PnjWPU/8aJn8YCE7z85eDF6VUbAP/YOBPRAqes/3PHB/W6ODsByV5jUBefPPwP/mmLyHQrALVrhVjO5A8BbrzkmCxcDQKiGKRfiLhJA/aFaR6If2T/VSGltoMXdvySBTNH93es/MyN7g1xu1b8iCLhu/q/jP8dJJ3GFUvW/7SZq2nOh+T8cozSoobK1v3BNd8JJlRDA/9RIDt+9+z/4GiGIXIb8P9CENwdrsgxAwqmhkzEPE8BNRdpNQangP0fiowDt7BFArnK2fBi4BkD9/DcD8RIRwNV8Lowozee/sp/HDmkdxj97VP/07If6v3x0C5wNgvW/lJSGm8ghy79FP0XSkywFwKy7E70AWQpAnNIhx/IHAEDd4xo6xrm1v6W4uHcu9PI/226Pc5VPxj/2xSC2wXULQHWAEvC+pBPA8C/J93CPBUBy1fDhxXnJP/gHs5vMCw/AlY2tEhjW4z+UXpn2Ko8DQE4yorE1yO8/jPoNoTx+1b/uVtd0qcIFwOeeEbEmlMC/bGGSq2CNAsAvVktGr0cAwMfaFYhbxwNAnI9143XCAsBB/cy1hgESQEq2pXXy/IA/0KVnqz7i6T9CtJgrVw8SwI/jHcs24+Y/QLux5AEvA8AH4KBr27TiP/QGvcdkq9q/KlmaE3WWAUCDPGL8y4HDv67eaG8iffg/9hs9ey97rT940dvfLa4XQEYRXBPn9dw/4LtuNMTexT+UWoGyOzYCQMQsxxJOkM8/qn84bRbT/L/KGOZ/igoDwDQrq58sMts/2HTHXTt04j9XzHwd8h7hP8Z9NnnPfhHAMsml7tsI4r/5Sd430oH+P9pGghTE5uG/b/KCtwZ/5L/KsmE0C4Tzv7mMQIeso/q/uxYDfY1H/79YGfGBMXX6PyhjedbG4MA/mSeFI1/UE8DOVzL/WQcBwG00OTfy7ss/8Oc8UTKR4L/MmzKWK/XyP/JB18RAWvM/+GhDGu4I9z/3/ZAt6bT0P37UX+xvwhFA1EL4JaUN8b+drSoTAkbav6lWEExR79W/cNHypxQJ7r9NJvrwF3fDv1QdcKmTN/i/9bHX2eLVEEDjqBrBWR/FPy0WubHlswVAWox6RJKHD0DJx4egwyvTP6BHBIltRvC/FdGVkJO7CcB6UfWRRjECwLRoz0dhCdE/nuRAoPwz5z8yegdPXbP3P3VLth2glui/Sg4hcHhLEEDpy0g8C5byv+n8ExYeauw/+1GcgRjZAMCrh3urFm4PQBJK2Ou+rvE/Xp2Er4TW2L9G2DTNtKPwP4qhaA9l5OS/AbxVdSRv8b8nuvLrR2r2P0oKXOJw6PG/JC6H64C97b/vtSwA2aPiv5JN5Mk/xgJAhbX5Sh3G+b9SDurakF/Qv+mH3DWD5eC/wLPCH9d3/L/8CnUHnvLkv4FkCRL29f6/FrQL3vGE4z8imuK2UJT4P1rHMGaFAA9A0wMiQt3oAMD23yYzxUUUwJ/v/lvIH/K/DR2CkRq/5L+oEH9JwXn3P7eqMFBJJ9e/05bmDn4RDEAnxgeiM07YPzdiKbf8gQVAMksSpM2j9L8cAGUtV1PiPz+RgAQ0QwVAP2EG9mULBMDLPbBzQaARwHWSqse6qu8/GDJmeeoO/z9FuLIR6l7gP3x1OuGQEdO//3Abryk7EUAI5hTzcr7xv0MBuVhQUek/a0QoCd1GBEAM8VQeq4C3vy6llBJaowZA7IXDoyivAMAR05AGFEoRQAqwc7W8lf8/WAsPiqVO1j8ZP5PZePLBv7VkV9KL1vW/PbhPzI36179oKA7J2sQBwOhiep1S1g7AddFumGWKBUCtqlCFG0/wPwmDDq5+C/0/vLd6qA3ZBsBq1Ra/+QQAQPr/tCg80fK/tTZoEh418b9BNtGYl/TsP9v5WNpFcBLANQ7JTyY7EMCOFgcY9dgTQJ3N8ZZ3r/Q/xxBWb/eczT+lYFgPFIUSQDM0aoqQi+6/gTt0ja61/7+lpUkTnfzhvynm5hdTAAtAx3Zux1T/vD8vkkH1A9QDQDIydCRfmOG/iKyJojCo6j/SO0eheJQTQCBvppHetxDASuIYwgdD+z/uwYs7w5gFwOxeXHTRYc8/MFM6SZhBBkD4rrSG/lX3v/oDvtrXtwBAZan8QLrC+r9AvsEVLhzIv49zvaun7uG/Drfo7KUN5b8MhwlUMl77P626tPBYRbs/lB/WOve93j+m8LEhinjnvymkPof/Y/M/qVonl34QFMBBq/ysltkAwA3RZM8wGfc/YQeH/d4vtr/OQyxmkxADwHFvpeR9Sf6/23gCWaak+z/2r35tNy/rv64oOFoNUOU/r1AJP11e77+4wd2meukGwNP+/2alNty/9UKETTBU4T+PyNFa+5QEwC82CopdL/U/S3DY7vslor81LcFWnir2v2OaQnxLegJAJ2W8FQKmAkCN4jRgdJ/kP27GN7HRxfq/oMFhlv4Ywz+0FvmPhK8UQL2mE2XejsI/SI3kkiGdEsAge2RcQrrLvyHOHpdnA98/D8EUZLjE/L8hjwyik+rivy2QRBQtA+w/U669VPlU1r9fsXKjSbUHQMx3FKogE+K/cmmK/5TY0T92MysHhtMSwPhNcxv/dhDAQMLsYJE39L/EVs1BFQfyP78noZcCAuQ/ZfYwI3wC6791yEgHcRfdP1U70HbJAQDAObkadSiT5L8nfh9qGywBwAn6/juvF/Y/+fSN+dZrDsB3KIUp9P3zPx6/gZNLV+K/+zpqpeFgD8D9qUih1Zr7vzwh1xjLrKm/dT73kT4D5T+14dYNEAnmP7zWXoIUoBZAQ7IxDllrAECoiWG20YfKv3UAsQQSBuG/44TFv8DJ1r8HVvlzh5cAwAN6Qgd6hA3A+211BhntEECCZepzgFX1v13VkzC31Pq/Mt/TPDDH4b8VjgHFa3jgv9x43sn7RBNA3WslxIsDE8D9YBik0VfiPx8uEs8DMdE/jLGJPwPX67+N2+aQezLtPx+cVi0wsv8/vHFBSIP+9T95hqav22nUP5wWFMfYnsq/3EL9KeRhA8D8sICtQx4SwGG2OVljjvk/7p4VdElREUD7/f/dj1jyPzRiFjovORDAM5sfjzqs3j8kQh97SZe8P3UE407JxNU/3ef+RjISEcCMOzCLQVvCv1SIhodsJBTANUamt5Mrt7/BrwcyeXn7v63qzTBkt9K/Niy3/sSj478/kONbDIf5v4doKMpjR+u/9ZuNBbGDB0DazN6RM2r6vz6i+EzR8/u/5EWDs5XpBEDhQQyEVwXnv1B2wI8pD8e/rBik7U60BECLNoOq+DsBQJaj1CZvqQ5A3m7MVxgw9D/ETLnDSUEBQKmFnj/iFdE/r9j2vTlaA8Aq4RLVbE/JPy7SYeRJOQTAKnIrrK/f9z++OfEwh4UDwNdFfz32sAjATC4p0Fso8r+Z3q9trsX7v9jFRenWFPW/BwWAvD+buT+xM23WkR/jv9869mCcOAVAY/HoVNES37/e1a7WMXmyP5PUdD26KsA/ZMwaIuFr/78/Zd35wnTDvzI21gZe9e6/40aHHQKeBUC0F8WJMtSjPzTMVCG0nfe/Ru0zXlFYE0BPteSa71TjP+6FaKyUy7+/CcfK6Zmh+7/p/ZtKov0DwC/nCOa5c/6/3cbmat7C1r9PvFpLhlm/PzfGiYGQ8AnATmOP09qA5z/A4HyreRDgvzmXNzlSxwzA2eXxDmJh9L8axZM5+tPzP1yuy1NBwBHAs9xbLGQm7j+EC2n9UKUGwOd/IwAW49S/E1Xy5KItpT8w3K4EuUPsPyfHXFRFYtK/cJrH0tqkEMDTvZJ1CAIGwAEmzh+D5fg/1+yiExPQPj8OO9Ym0QARwICmmehW/e2/ccHEI59IEkAzDokeW2oBwOtKluJ/IdY/kKqtNCw/D0CyRh963kyLP5bue804fcw/SgbxvhgF/D8fCjlbtJANwD1B8MMfyau/Z8R7aYUQtT91/E/Y2qXtP//ANTFju/w/7w35KLs/AsBIpalGpBDnP+6Rdmo1qw9AU8nUVEPgDUCSbkBJMsPtv+i+Rrvfxd6/EfJOssHFFMAonzHtcqCHPzlGmnUsPuc/Dt9RUctZ7T+wRtUlTm8UwPyHQzjb3M+/deXyCzU4rD/ovFt8siL8v+LUYbXWm/C/HHtFp5bGFMD87qO8ZZrnP+1K1bjAzxFAGVTFnRXw4L/W5nCdLigUQC7BROzbw+M/a+lt/s0l7b9e62OHeSL5P01Ki2KCBs+/53mFgPUcA0C6nfD0kTIVwMdd/m/f2ABA5EMi+8cl9L8qp3KYymgJQK/U/vJMMvK/tbpL8e7ZA8C+ADl/IJ4CwAMFwnAwzwvA4aooNlDs0z9RTc4oo73Vvxs3wAolTOs/ZI8cUMGm07+ClKkMaTUKQEdQxTyKgBHAVr32FFKIEMC2YIRyUMn2P9j6D2cjLuW/t1GKz+gJ+z/uCda1vjnTv0D1DhdTrgRA",
          "dtype": "f8"
         }
        }
       ],
       "layout": {
        "legend": {
         "x": 0.01,
         "y": 0.99
        },
        "scene": {
         "xaxis": {
          "title": {
           "text": "PC1"
          }
         },
         "yaxis": {
          "title": {
           "text": "PC2"
          }
         },
         "zaxis": {
          "title": {
           "text": "PC3"
          }
         }
        },
        "template": {
         "data": {
          "bar": [
           {
            "error_x": {
             "color": "#2a3f5f"
            },
            "error_y": {
             "color": "#2a3f5f"
            },
            "marker": {
             "line": {
              "color": "#E5ECF6",
              "width": 0.5
             },
             "pattern": {
              "fillmode": "overlay",
              "size": 10,
              "solidity": 0.2
             }
            },
            "type": "bar"
           }
          ],
          "barpolar": [
           {
            "marker": {
             "line": {
              "color": "#E5ECF6",
              "width": 0.5
             },
             "pattern": {
              "fillmode": "overlay",
              "size": 10,
              "solidity": 0.2
             }
            },
            "type": "barpolar"
           }
          ],
          "carpet": [
           {
            "aaxis": {
             "endlinecolor": "#2a3f5f",
             "gridcolor": "white",
             "linecolor": "white",
             "minorgridcolor": "white",
             "startlinecolor": "#2a3f5f"
            },
            "baxis": {
             "endlinecolor": "#2a3f5f",
             "gridcolor": "white",
             "linecolor": "white",
             "minorgridcolor": "white",
             "startlinecolor": "#2a3f5f"
            },
            "type": "carpet"
           }
          ],
          "choropleth": [
           {
            "colorbar": {
             "outlinewidth": 0,
             "ticks": ""
            },
            "type": "choropleth"
           }
          ],
          "contour": [
           {
            "colorbar": {
             "outlinewidth": 0,
             "ticks": ""
            },
            "colorscale": [
             [
              0,
              "#0d0887"
             ],
             [
              0.1111111111111111,
              "#46039f"
             ],
             [
              0.2222222222222222,
              "#7201a8"
             ],
             [
              0.3333333333333333,
              "#9c179e"
             ],
             [
              0.4444444444444444,
              "#bd3786"
             ],
             [
              0.5555555555555556,
              "#d8576b"
             ],
             [
              0.6666666666666666,
              "#ed7953"
             ],
             [
              0.7777777777777778,
              "#fb9f3a"
             ],
             [
              0.8888888888888888,
              "#fdca26"
             ],
             [
              1,
              "#f0f921"
             ]
            ],
            "type": "contour"
           }
          ],
          "contourcarpet": [
           {
            "colorbar": {
             "outlinewidth": 0,
             "ticks": ""
            },
            "type": "contourcarpet"
           }
          ],
          "heatmap": [
           {
            "colorbar": {
             "outlinewidth": 0,
             "ticks": ""
            },
            "colorscale": [
             [
              0,
              "#0d0887"
             ],
             [
              0.1111111111111111,
              "#46039f"
             ],
             [
              0.2222222222222222,
              "#7201a8"
             ],
             [
              0.3333333333333333,
              "#9c179e"
             ],
             [
              0.4444444444444444,
              "#bd3786"
             ],
             [
              0.5555555555555556,
              "#d8576b"
             ],
             [
              0.6666666666666666,
              "#ed7953"
             ],
             [
              0.7777777777777778,
              "#fb9f3a"
             ],
             [
              0.8888888888888888,
              "#fdca26"
             ],
             [
              1,
              "#f0f921"
             ]
            ],
            "type": "heatmap"
           }
          ],
          "histogram": [
           {
            "marker": {
             "pattern": {
              "fillmode": "overlay",
              "size": 10,
              "solidity": 0.2
             }
            },
            "type": "histogram"
           }
          ],
          "histogram2d": [
           {
            "colorbar": {
             "outlinewidth": 0,
             "ticks": ""
            },
            "colorscale": [
             [
              0,
              "#0d0887"
             ],
             [
              0.1111111111111111,
              "#46039f"
             ],
             [
              0.2222222222222222,
              "#7201a8"
             ],
             [
              0.3333333333333333,
              "#9c179e"
             ],
             [
              0.4444444444444444,
              "#bd3786"
             ],
             [
              0.5555555555555556,
              "#d8576b"
             ],
             [
              0.6666666666666666,
              "#ed7953"
             ],
             [
              0.7777777777777778,
              "#fb9f3a"
             ],
             [
              0.8888888888888888,
              "#fdca26"
             ],
             [
              1,
              "#f0f921"
             ]
            ],
            "type": "histogram2d"
           }
          ],
          "histogram2dcontour": [
           {
            "colorbar": {
             "outlinewidth": 0,
             "ticks": ""
            },
            "colorscale": [
             [
              0,
              "#0d0887"
             ],
             [
              0.1111111111111111,
              "#46039f"
             ],
             [
              0.2222222222222222,
              "#7201a8"
             ],
             [
              0.3333333333333333,
              "#9c179e"
             ],
             [
              0.4444444444444444,
              "#bd3786"
             ],
             [
              0.5555555555555556,
              "#d8576b"
             ],
             [
              0.6666666666666666,
              "#ed7953"
             ],
             [
              0.7777777777777778,
              "#fb9f3a"
             ],
             [
              0.8888888888888888,
              "#fdca26"
             ],
             [
              1,
              "#f0f921"
             ]
            ],
            "type": "histogram2dcontour"
           }
          ],
          "mesh3d": [
           {
            "colorbar": {
             "outlinewidth": 0,
             "ticks": ""
            },
            "type": "mesh3d"
           }
          ],
          "parcoords": [
           {
            "line": {
             "colorbar": {
              "outlinewidth": 0,
              "ticks": ""
             }
            },
            "type": "parcoords"
           }
          ],
          "pie": [
           {
            "automargin": true,
            "type": "pie"
           }
          ],
          "scatter": [
           {
            "fillpattern": {
             "fillmode": "overlay",
             "size": 10,
             "solidity": 0.2
            },
            "type": "scatter"
           }
          ],
          "scatter3d": [
           {
            "line": {
             "colorbar": {
              "outlinewidth": 0,
              "ticks": ""
             }
            },
            "marker": {
             "colorbar": {
              "outlinewidth": 0,
              "ticks": ""
             }
            },
            "type": "scatter3d"
           }
          ],
          "scattercarpet": [
           {
            "marker": {
             "colorbar": {
              "outlinewidth": 0,
              "ticks": ""
             }
            },
            "type": "scattercarpet"
           }
          ],
          "scattergeo": [
           {
            "marker": {
             "colorbar": {
              "outlinewidth": 0,
              "ticks": ""
             }
            },
            "type": "scattergeo"
           }
          ],
          "scattergl": [
           {
            "marker": {
             "colorbar": {
              "outlinewidth": 0,
              "ticks": ""
             }
            },
            "type": "scattergl"
           }
          ],
          "scattermap": [
           {
            "marker": {
             "colorbar": {
              "outlinewidth": 0,
              "ticks": ""
             }
            },
            "type": "scattermap"
           }
          ],
          "scattermapbox": [
           {
            "marker": {
             "colorbar": {
              "outlinewidth": 0,
              "ticks": ""
             }
            },
            "type": "scattermapbox"
           }
          ],
          "scatterpolar": [
           {
            "marker": {
             "colorbar": {
              "outlinewidth": 0,
              "ticks": ""
             }
            },
            "type": "scatterpolar"
           }
          ],
          "scatterpolargl": [
           {
            "marker": {
             "colorbar": {
              "outlinewidth": 0,
              "ticks": ""
             }
            },
            "type": "scatterpolargl"
           }
          ],
          "scatterternary": [
           {
            "marker": {
             "colorbar": {
              "outlinewidth": 0,
              "ticks": ""
             }
            },
            "type": "scatterternary"
           }
          ],
          "surface": [
           {
            "colorbar": {
             "outlinewidth": 0,
             "ticks": ""
            },
            "colorscale": [
             [
              0,
              "#0d0887"
             ],
             [
              0.1111111111111111,
              "#46039f"
             ],
             [
              0.2222222222222222,
              "#7201a8"
             ],
             [
              0.3333333333333333,
              "#9c179e"
             ],
             [
              0.4444444444444444,
              "#bd3786"
             ],
             [
              0.5555555555555556,
              "#d8576b"
             ],
             [
              0.6666666666666666,
              "#ed7953"
             ],
             [
              0.7777777777777778,
              "#fb9f3a"
             ],
             [
              0.8888888888888888,
              "#fdca26"
             ],
             [
              1,
              "#f0f921"
             ]
            ],
            "type": "surface"
           }
          ],
          "table": [
           {
            "cells": {
             "fill": {
              "color": "#EBF0F8"
             },
             "line": {
              "color": "white"
             }
            },
            "header": {
             "fill": {
              "color": "#C8D4E3"
             },
             "line": {
              "color": "white"
             }
            },
            "type": "table"
           }
          ]
         },
         "layout": {
          "annotationdefaults": {
           "arrowcolor": "#2a3f5f",
           "arrowhead": 0,
           "arrowwidth": 1
          },
          "autotypenumbers": "strict",
          "coloraxis": {
           "colorbar": {
            "outlinewidth": 0,
            "ticks": ""
           }
          },
          "colorscale": {
           "diverging": [
            [
             0,
             "#8e0152"
            ],
            [
             0.1,
             "#c51b7d"
            ],
            [
             0.2,
             "#de77ae"
            ],
            [
             0.3,
             "#f1b6da"
            ],
            [
             0.4,
             "#fde0ef"
            ],
            [
             0.5,
             "#f7f7f7"
            ],
            [
             0.6,
             "#e6f5d0"
            ],
            [
             0.7,
             "#b8e186"
            ],
            [
             0.8,
             "#7fbc41"
            ],
            [
             0.9,
             "#4d9221"
            ],
            [
             1,
             "#276419"
            ]
           ],
           "sequential": [
            [
             0,
             "#0d0887"
            ],
            [
             0.1111111111111111,
             "#46039f"
            ],
            [
             0.2222222222222222,
             "#7201a8"
            ],
            [
             0.3333333333333333,
             "#9c179e"
            ],
            [
             0.4444444444444444,
             "#bd3786"
            ],
            [
             0.5555555555555556,
             "#d8576b"
            ],
            [
             0.6666666666666666,
             "#ed7953"
            ],
            [
             0.7777777777777778,
             "#fb9f3a"
            ],
            [
             0.8888888888888888,
             "#fdca26"
            ],
            [
             1,
             "#f0f921"
            ]
           ],
           "sequentialminus": [
            [
             0,
             "#0d0887"
            ],
            [
             0.1111111111111111,
             "#46039f"
            ],
            [
             0.2222222222222222,
             "#7201a8"
            ],
            [
             0.3333333333333333,
             "#9c179e"
            ],
            [
             0.4444444444444444,
             "#bd3786"
            ],
            [
             0.5555555555555556,
             "#d8576b"
            ],
            [
             0.6666666666666666,
             "#ed7953"
            ],
            [
             0.7777777777777778,
             "#fb9f3a"
            ],
            [
             0.8888888888888888,
             "#fdca26"
            ],
            [
             1,
             "#f0f921"
            ]
           ]
          },
          "colorway": [
           "#636efa",
           "#EF553B",
           "#00cc96",
           "#ab63fa",
           "#FFA15A",
           "#19d3f3",
           "#FF6692",
           "#B6E880",
           "#FF97FF",
           "#FECB52"
          ],
          "font": {
           "color": "#2a3f5f"
          },
          "geo": {
           "bgcolor": "white",
           "lakecolor": "white",
           "landcolor": "#E5ECF6",
           "showlakes": true,
           "showland": true,
           "subunitcolor": "white"
          },
          "hoverlabel": {
           "align": "left"
          },
          "hovermode": "closest",
          "mapbox": {
           "style": "light"
          },
          "paper_bgcolor": "white",
          "plot_bgcolor": "#E5ECF6",
          "polar": {
           "angularaxis": {
            "gridcolor": "white",
            "linecolor": "white",
            "ticks": ""
           },
           "bgcolor": "#E5ECF6",
           "radialaxis": {
            "gridcolor": "white",
            "linecolor": "white",
            "ticks": ""
           }
          },
          "scene": {
           "xaxis": {
            "backgroundcolor": "#E5ECF6",
            "gridcolor": "white",
            "gridwidth": 2,
            "linecolor": "white",
            "showbackground": true,
            "ticks": "",
            "zerolinecolor": "white"
           },
           "yaxis": {
            "backgroundcolor": "#E5ECF6",
            "gridcolor": "white",
            "gridwidth": 2,
            "linecolor": "white",
            "showbackground": true,
            "ticks": "",
            "zerolinecolor": "white"
           },
           "zaxis": {
            "backgroundcolor": "#E5ECF6",
            "gridcolor": "white",
            "gridwidth": 2,
            "linecolor": "white",
            "showbackground": true,
            "ticks": "",
            "zerolinecolor": "white"
           }
          },
          "shapedefaults": {
           "line": {
            "color": "#2a3f5f"
           }
          },
          "ternary": {
           "aaxis": {
            "gridcolor": "white",
            "linecolor": "white",
            "ticks": ""
           },
           "baxis": {
            "gridcolor": "white",
            "linecolor": "white",
            "ticks": ""
           },
           "bgcolor": "#E5ECF6",
           "caxis": {
            "gridcolor": "white",
            "linecolor": "white",
            "ticks": ""
           }
          },
          "title": {
           "x": 0.05
          },
          "xaxis": {
           "automargin": true,
           "gridcolor": "white",
           "linecolor": "white",
           "ticks": "",
           "title": {
            "standoff": 15
           },
           "zerolinecolor": "white",
           "zerolinewidth": 2
          },
          "yaxis": {
           "automargin": true,
           "gridcolor": "white",
           "linecolor": "white",
           "ticks": "",
           "title": {
            "standoff": 15
           },
           "zerolinecolor": "white",
           "zerolinewidth": 2
          }
         }
        },
        "title": {
         "text": "Pontos de teste no espaço das três primeiras componentes principais (3D)"
        }
       }
      }
     },
     "metadata": {},
     "output_type": "display_data"
    }
   ],
   "source": [
    "# Visualização interativa 3D dos pontos de teste no espaço das três primeiras componentes principais (sem grid de decisão)\n",
    "import plotly.graph_objs as go\n",
    "\n",
    "# Obter as três primeiras componentes principais dos dados de teste\n",
    "X_test_pca = pipe_svm.named_steps[\"pca\"].transform(\n",
    "    pipe_svm.named_steps[\"scaler\"].transform(X_test)\n",
    ")\n",
    "\n",
    "X_test_pca_3d = X_test_pca\n",
    "\n",
    "# Para cada ponto de teste, determinar a predição SVM (0 ou 1) usando o threshold ótimo\n",
    "y_proba_test = pipe_svm.predict_proba(X_test)[:, 1]\n",
    "y_pred_svm = (y_proba_test >= best_threshold_svm).astype(int)\n",
    "y_true = y_test.values\n",
    "\n",
    "# Mapear cor para predição SVM (0: azul, 1: vermelho)\n",
    "color_map = np.array([\"blue\", \"red\"])\n",
    "colors = color_map[y_pred_svm]\n",
    "\n",
    "# Mapear símbolo para target (0: círculo, 1: diamante)\n",
    "symbol_map = np.array([\"circle\", \"diamond\"])\n",
    "symbols = symbol_map[y_true]\n",
    "\n",
    "# Traço para pontos de teste, shape pelo target, cor pela predição SVM\n",
    "test_trace = go.Scatter3d(\n",
    "    x=X_test_pca_3d[:, 0],\n",
    "    y=X_test_pca_3d[:, 1],\n",
    "    z=X_test_pca_3d[:, 2],\n",
    "    mode=\"markers\",\n",
    "    marker=dict(\n",
    "        size=7, color=colors, symbol=symbols, line=dict(width=1, color=\"black\")\n",
    "    ),\n",
    "    name=\"Test points (shape=target, color=SVM pred)\",\n",
    ")\n",
    "\n",
    "layout = go.Layout(\n",
    "    scene=dict(\n",
    "        xaxis_title=\"PC1\",\n",
    "        yaxis_title=\"PC2\",\n",
    "        zaxis_title=\"PC3\",\n",
    "    ),\n",
    "    title=\"Pontos de teste no espaço das três primeiras componentes principais (3D)\",\n",
    "    legend=dict(x=0.01, y=0.99),\n",
    ")\n",
    "\n",
    "fig = go.Figure(data=[test_trace], layout=layout)\n",
    "fig.show()\n"
   ]
  }
 ],
 "metadata": {
  "kernelspec": {
   "display_name": ".venv",
   "language": "python",
   "name": "python3"
  },
  "language_info": {
   "codemirror_mode": {
    "name": "ipython",
    "version": 3
   },
   "file_extension": ".py",
   "mimetype": "text/x-python",
   "name": "python",
   "nbconvert_exporter": "python",
   "pygments_lexer": "ipython3",
   "version": "3.12.9"
  }
 },
 "nbformat": 4,
 "nbformat_minor": 5
}
