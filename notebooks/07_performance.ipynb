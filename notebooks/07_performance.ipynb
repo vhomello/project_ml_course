{
 "cells": [
  {
   "cell_type": "code",
   "execution_count": 7,
   "id": "4df6c44e",
   "metadata": {},
   "outputs": [],
   "source": [
    "import pandas as pd\n",
    "import pickle\n",
    "from sklearn.metrics import f1_score\n",
    "from sklearn.model_selection import train_test_split\n",
    "\n",
    "from project_ml_course.data_process import filter_columns_by_correlation_threshold"
   ]
  },
  {
   "cell_type": "code",
   "execution_count": 8,
   "id": "5d3df6c4",
   "metadata": {},
   "outputs": [],
   "source": [
    "raw_df = pd.read_csv(\"../data/dados.csv\", index_col=\"Unnamed: 0\")\n",
    "\n",
    "df = filter_columns_by_correlation_threshold(\n",
    "    df=raw_df,\n",
    "    ref_col=\"class\",\n",
    "    method_type=\"pearson\",\n",
    "    lower_threshold=0.001,\n",
    "    higher_threshold=0.999,\n",
    ")\n",
    "\n",
    "X = df.drop(columns=[\"class\"])\n",
    "y = df[\"class\"]\n",
    "\n",
    "X_train, X_test, y_train, y_test = train_test_split(\n",
    "    X, y, test_size=0.2, random_state=42, stratify=y\n",
    ")"
   ]
  },
  {
   "cell_type": "code",
   "execution_count": 9,
   "id": "351afba3",
   "metadata": {},
   "outputs": [],
   "source": [
    "# Load models\n",
    "with open(\"../models/lightgbm_model.pkl\", \"rb\") as f:\n",
    "    lgbm_model = pickle.load(f)\n",
    "with open(\"../models/svm_model.pkl\", \"rb\") as f:\n",
    "    svm_model = pickle.load(f)"
   ]
  },
  {
   "cell_type": "code",
   "execution_count": null,
   "id": "fe8d1e2c",
   "metadata": {},
   "outputs": [
    {
     "name": "stdout",
     "output_type": "stream",
     "text": [
      "| Model    |   F1 Train |   F1 Test |\n",
      "|:---------|-----------:|----------:|\n",
      "| LightGBM |     1.0000 |    0.9475 |\n",
      "| SVM      |     0.9863 |    0.9691 |\n"
     ]
    },
    {
     "name": "stderr",
     "output_type": "stream",
     "text": [
      "/Users/vitor.mello/vho/project_ml_course/.venv/lib/python3.12/site-packages/sklearn/utils/validation.py:2749: UserWarning: X does not have valid feature names, but LGBMClassifier was fitted with feature names\n",
      "  warnings.warn(\n",
      "/Users/vitor.mello/vho/project_ml_course/.venv/lib/python3.12/site-packages/sklearn/utils/validation.py:2749: UserWarning: X does not have valid feature names, but LGBMClassifier was fitted with feature names\n",
      "  warnings.warn(\n"
     ]
    }
   ],
   "source": [
    "# Predict and calculate F1 for each model\n",
    "results = []\n",
    "\n",
    "for name, model in [(\"LightGBM\", lgbm_model), (\"SVM\", svm_model)]:\n",
    "    y_pred_train = model.predict(X_train)\n",
    "    f1_train = f1_score(y_train, y_pred_train, average=\"weighted\")\n",
    "    y_pred_test = model.predict(X_test)\n",
    "    f1_test = f1_score(y_test, y_pred_test, average=\"weighted\")\n",
    "    results.append({\"Model\": name, \"F1 Train\": f1_train, \"F1 Test\": f1_test})\n",
    "\n",
    "# Create markdown table\n",
    "df_results = pd.DataFrame(results)\n",
    "md_table = df_results.to_markdown(index=False, floatfmt=\".4f\")\n",
    "print(md_table)"
   ]
  },
  {
   "cell_type": "code",
   "execution_count": null,
   "id": "4a26890c",
   "metadata": {},
   "outputs": [],
   "source": []
  }
 ],
 "metadata": {
  "kernelspec": {
   "display_name": ".venv",
   "language": "python",
   "name": "python3"
  },
  "language_info": {
   "codemirror_mode": {
    "name": "ipython",
    "version": 3
   },
   "file_extension": ".py",
   "mimetype": "text/x-python",
   "name": "python",
   "nbconvert_exporter": "python",
   "pygments_lexer": "ipython3",
   "version": "3.12.9"
  }
 },
 "nbformat": 4,
 "nbformat_minor": 5
}
