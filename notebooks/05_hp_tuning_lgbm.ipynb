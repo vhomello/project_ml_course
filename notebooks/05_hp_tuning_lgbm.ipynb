{
 "cells": [
  {
   "cell_type": "code",
   "execution_count": 1,
   "id": "72eb690b",
   "metadata": {},
   "outputs": [
    {
     "name": "stderr",
     "output_type": "stream",
     "text": [
      "/Users/vitor.mello/vho/project_ml_course/.venv/lib/python3.12/site-packages/tqdm/auto.py:21: TqdmWarning: IProgress not found. Please update jupyter and ipywidgets. See https://ipywidgets.readthedocs.io/en/stable/user_install.html\n",
      "  from .autonotebook import tqdm as notebook_tqdm\n"
     ]
    }
   ],
   "source": [
    "import optuna\n",
    "import pandas as pd\n",
    "from sklearn.model_selection import StratifiedKFold\n",
    "from sklearn.metrics import f1_score\n",
    "from sklearn.model_selection import train_test_split\n",
    "\n",
    "import lightgbm as lgb"
   ]
  },
  {
   "cell_type": "code",
   "execution_count": 2,
   "id": "a6a5910b",
   "metadata": {},
   "outputs": [],
   "source": [
    "raw_df = pd.read_csv(\"../data/dados.csv\", index_col=\"Unnamed: 0\")\n",
    "\n",
    "features = [\"feat_8\", \"feat_17\", \"feat_50\"]\n",
    "\n",
    "X = raw_df[features]\n",
    "y = raw_df[\"class\"]\n",
    "\n",
    "# Separar treino e teste\n",
    "X_train, X_test, y_train, y_test = train_test_split(\n",
    "    X, y, test_size=0.2, random_state=42, stratify=y\n",
    ")"
   ]
  },
  {
   "cell_type": "code",
   "execution_count": 3,
   "id": "da0b2e7d",
   "metadata": {},
   "outputs": [
    {
     "name": "stderr",
     "output_type": "stream",
     "text": [
      "[I 2025-07-16 18:10:52,008] A new study created in memory with name: no-name-8c9c0a57-d39a-4f06-a333-c36c71936da4\n",
      "Best trial: 0. Best value: 0.860718:   3%|▎         | 1/30 [00:00<00:22,  1.30it/s]"
     ]
    },
    {
     "name": "stdout",
     "output_type": "stream",
     "text": [
      "[I 2025-07-16 18:10:52,786] Trial 0 finished with value: 0.8607175517783169 and parameters: {'learning_rate': 0.029100617882474283, 'num_leaves': 63, 'max_depth': 6, 'min_child_samples': 19, 'subsample': 0.9424143954230736, 'colsample_bytree': 0.6623529010495697, 'reg_alpha': 0.0003734337633494176, 'reg_lambda': 0.003651007189495876}. Best is trial 0 with value: 0.8607175517783169.\n"
     ]
    },
    {
     "name": "stderr",
     "output_type": "stream",
     "text": [
      "Best trial: 0. Best value: 0.860718:   7%|▋         | 2/30 [00:01<00:14,  1.91it/s]"
     ]
    },
    {
     "name": "stdout",
     "output_type": "stream",
     "text": [
      "[I 2025-07-16 18:10:53,137] Trial 1 finished with value: 0.7420502467894015 and parameters: {'learning_rate': 0.014445859244816481, 'num_leaves': 122, 'max_depth': 4, 'min_child_samples': 49, 'subsample': 0.7623499909800612, 'colsample_bytree': 0.883576828635398, 'reg_alpha': 2.4857012524562503, 'reg_lambda': 0.00015563974584479592}. Best is trial 0 with value: 0.8607175517783169.\n"
     ]
    },
    {
     "name": "stderr",
     "output_type": "stream",
     "text": [
      "Best trial: 2. Best value: 0.960352:  10%|█         | 3/30 [00:01<00:11,  2.37it/s]"
     ]
    },
    {
     "name": "stdout",
     "output_type": "stream",
     "text": [
      "[I 2025-07-16 18:10:53,440] Trial 2 finished with value: 0.9603522659849609 and parameters: {'learning_rate': 0.07900167346720248, 'num_leaves': 46, 'max_depth': 3, 'min_child_samples': 50, 'subsample': 0.7153172898390803, 'colsample_bytree': 0.7677991175331536, 'reg_alpha': 0.00042034498124994893, 'reg_lambda': 0.2308588704300888}. Best is trial 2 with value: 0.9603522659849609.\n"
     ]
    },
    {
     "name": "stderr",
     "output_type": "stream",
     "text": [
      "Best trial: 3. Best value: 0.971252:  13%|█▎        | 4/30 [00:01<00:11,  2.18it/s]"
     ]
    },
    {
     "name": "stdout",
     "output_type": "stream",
     "text": [
      "[I 2025-07-16 18:10:53,952] Trial 3 finished with value: 0.9712522375008069 and parameters: {'learning_rate': 0.0950487986471011, 'num_leaves': 8, 'max_depth': 10, 'min_child_samples': 5, 'subsample': 0.9980554085473252, 'colsample_bytree': 0.8390008189815306, 'reg_alpha': 7.653279230834223e-07, 'reg_lambda': 1.5372204763823293e-05}. Best is trial 3 with value: 0.9712522375008069.\n"
     ]
    },
    {
     "name": "stderr",
     "output_type": "stream",
     "text": [
      "Best trial: 3. Best value: 0.971252:  17%|█▋        | 5/30 [00:02<00:09,  2.71it/s]"
     ]
    },
    {
     "name": "stdout",
     "output_type": "stream",
     "text": [
      "[I 2025-07-16 18:10:54,163] Trial 4 finished with value: 0.3217704731596672 and parameters: {'learning_rate': 0.0056934082831825595, 'num_leaves': 20, 'max_depth': 2, 'min_child_samples': 89, 'subsample': 0.7842298737903723, 'colsample_bytree': 0.6973036256335448, 'reg_alpha': 1.193874868983751, 'reg_lambda': 5.027097716981483e-05}. Best is trial 3 with value: 0.9712522375008069.\n"
     ]
    },
    {
     "name": "stderr",
     "output_type": "stream",
     "text": [
      "Best trial: 3. Best value: 0.971252:  20%|██        | 6/30 [00:02<00:09,  2.62it/s]"
     ]
    },
    {
     "name": "stdout",
     "output_type": "stream",
     "text": [
      "[I 2025-07-16 18:10:54,571] Trial 5 finished with value: 0.9418442013909629 and parameters: {'learning_rate': 0.053964371083194254, 'num_leaves': 114, 'max_depth': 4, 'min_child_samples': 39, 'subsample': 0.5165891308767638, 'colsample_bytree': 0.9718045988424178, 'reg_alpha': 0.00042683446643786984, 'reg_lambda': 7.920459887853403}. Best is trial 3 with value: 0.9712522375008069.\n"
     ]
    },
    {
     "name": "stderr",
     "output_type": "stream",
     "text": [
      "Best trial: 3. Best value: 0.971252:  23%|██▎       | 7/30 [00:02<00:08,  2.87it/s]"
     ]
    },
    {
     "name": "stdout",
     "output_type": "stream",
     "text": [
      "[I 2025-07-16 18:10:54,851] Trial 6 finished with value: 0.3221198020804247 and parameters: {'learning_rate': 0.0034414099479331316, 'num_leaves': 44, 'max_depth': 3, 'min_child_samples': 69, 'subsample': 0.6066775476650106, 'colsample_bytree': 0.6073426282138283, 'reg_alpha': 0.0020162606191761324, 'reg_lambda': 0.00022002846256757906}. Best is trial 3 with value: 0.9712522375008069.\n"
     ]
    },
    {
     "name": "stderr",
     "output_type": "stream",
     "text": [
      "Best trial: 3. Best value: 0.971252:  27%|██▋       | 8/30 [00:03<00:11,  1.88it/s]"
     ]
    },
    {
     "name": "stdout",
     "output_type": "stream",
     "text": [
      "[I 2025-07-16 18:10:55,771] Trial 7 finished with value: 0.9178923253202239 and parameters: {'learning_rate': 0.031809212213835945, 'num_leaves': 95, 'max_depth': 7, 'min_child_samples': 11, 'subsample': 0.881116736866986, 'colsample_bytree': 0.8101139349790204, 'reg_alpha': 0.00040484186489438904, 'reg_lambda': 0.02131176019037092}. Best is trial 3 with value: 0.9712522375008069.\n"
     ]
    },
    {
     "name": "stderr",
     "output_type": "stream",
     "text": [
      "Best trial: 3. Best value: 0.971252:  30%|███       | 9/30 [00:04<00:11,  1.81it/s]"
     ]
    },
    {
     "name": "stdout",
     "output_type": "stream",
     "text": [
      "[I 2025-07-16 18:10:56,370] Trial 8 finished with value: 0.8796314742251681 and parameters: {'learning_rate': 0.0343134985412324, 'num_leaves': 29, 'max_depth': 7, 'min_child_samples': 33, 'subsample': 0.8254544250291574, 'colsample_bytree': 0.8304750802489083, 'reg_alpha': 2.404213290724697e-07, 'reg_lambda': 3.1395653170726896}. Best is trial 3 with value: 0.9712522375008069.\n"
     ]
    },
    {
     "name": "stderr",
     "output_type": "stream",
     "text": [
      "Best trial: 3. Best value: 0.971252:  33%|███▎      | 10/30 [00:04<00:08,  2.24it/s]"
     ]
    },
    {
     "name": "stdout",
     "output_type": "stream",
     "text": [
      "[I 2025-07-16 18:10:56,582] Trial 9 finished with value: 0.9292365415132162 and parameters: {'learning_rate': 0.1323302255445757, 'num_leaves': 62, 'max_depth': 2, 'min_child_samples': 91, 'subsample': 0.7121277276287603, 'colsample_bytree': 0.780778025171775, 'reg_alpha': 0.12653967313729111, 'reg_lambda': 7.726019862841148e-05}. Best is trial 3 with value: 0.9712522375008069.\n"
     ]
    },
    {
     "name": "stderr",
     "output_type": "stream",
     "text": [
      "Best trial: 3. Best value: 0.971252:  37%|███▋      | 11/30 [00:05<00:08,  2.14it/s]"
     ]
    },
    {
     "name": "stdout",
     "output_type": "stream",
     "text": [
      "[I 2025-07-16 18:10:57,092] Trial 10 finished with value: 0.9625049597016595 and parameters: {'learning_rate': 0.2837515369332636, 'num_leaves': 8, 'max_depth': 10, 'min_child_samples': 5, 'subsample': 0.9796637163937236, 'colsample_bytree': 0.5120172698795814, 'reg_alpha': 4.318409903734701e-08, 'reg_lambda': 1.5053717243856156e-07}. Best is trial 3 with value: 0.9712522375008069.\n"
     ]
    },
    {
     "name": "stderr",
     "output_type": "stream",
     "text": [
      "Best trial: 3. Best value: 0.971252:  40%|████      | 12/30 [00:05<00:09,  1.95it/s]"
     ]
    },
    {
     "name": "stdout",
     "output_type": "stream",
     "text": [
      "[I 2025-07-16 18:10:57,711] Trial 11 finished with value: 0.9656600019837637 and parameters: {'learning_rate': 0.2976840887600658, 'num_leaves': 10, 'max_depth': 10, 'min_child_samples': 6, 'subsample': 0.9913969254414581, 'colsample_bytree': 0.5020709296416714, 'reg_alpha': 2.0656089133674222e-08, 'reg_lambda': 9.209808203438771e-08}. Best is trial 3 with value: 0.9712522375008069.\n"
     ]
    },
    {
     "name": "stderr",
     "output_type": "stream",
     "text": [
      "Best trial: 12. Best value: 0.974261:  43%|████▎     | 13/30 [00:06<00:09,  1.83it/s]"
     ]
    },
    {
     "name": "stdout",
     "output_type": "stream",
     "text": [
      "[I 2025-07-16 18:10:58,332] Trial 12 finished with value: 0.9742614273381225 and parameters: {'learning_rate': 0.24987767056416982, 'num_leaves': 10, 'max_depth': 10, 'min_child_samples': 23, 'subsample': 0.9880140761661466, 'colsample_bytree': 0.9120803297646122, 'reg_alpha': 1.9580382518081953e-06, 'reg_lambda': 4.5677354134550925e-08}. Best is trial 12 with value: 0.9742614273381225.\n"
     ]
    },
    {
     "name": "stderr",
     "output_type": "stream",
     "text": [
      "Best trial: 12. Best value: 0.974261:  47%|████▋     | 14/30 [00:07<00:11,  1.45it/s]"
     ]
    },
    {
     "name": "stdout",
     "output_type": "stream",
     "text": [
      "[I 2025-07-16 18:10:59,352] Trial 13 finished with value: 0.0 and parameters: {'learning_rate': 0.001058012735108469, 'num_leaves': 32, 'max_depth': 9, 'min_child_samples': 26, 'subsample': 0.9044317033936426, 'colsample_bytree': 0.9371232600798539, 'reg_alpha': 8.053890078687935e-06, 'reg_lambda': 1.6845942714502844e-06}. Best is trial 12 with value: 0.9742614273381225.\n"
     ]
    },
    {
     "name": "stderr",
     "output_type": "stream",
     "text": [
      "Best trial: 14. Best value: 0.974292:  50%|█████     | 15/30 [00:08<00:12,  1.16it/s]"
     ]
    },
    {
     "name": "stdout",
     "output_type": "stream",
     "text": [
      "[I 2025-07-16 18:11:00,618] Trial 14 finished with value: 0.9742919753368297 and parameters: {'learning_rate': 0.13552074227499203, 'num_leaves': 87, 'max_depth': 8, 'min_child_samples': 21, 'subsample': 0.8524136792789061, 'colsample_bytree': 0.889143131576927, 'reg_alpha': 2.368486053933828e-06, 'reg_lambda': 1.961673410421952e-08}. Best is trial 14 with value: 0.9742919753368297.\n"
     ]
    },
    {
     "name": "stderr",
     "output_type": "stream",
     "text": [
      "Best trial: 14. Best value: 0.974292:  53%|█████▎    | 16/30 [00:09<00:11,  1.24it/s]"
     ]
    },
    {
     "name": "stdout",
     "output_type": "stream",
     "text": [
      "[I 2025-07-16 18:11:01,304] Trial 15 finished with value: 0.9733869781488067 and parameters: {'learning_rate': 0.16778294825010706, 'num_leaves': 88, 'max_depth': 8, 'min_child_samples': 69, 'subsample': 0.8601569843354814, 'colsample_bytree': 0.907162796316399, 'reg_alpha': 6.644254883962808e-06, 'reg_lambda': 1.8979089307141885e-08}. Best is trial 14 with value: 0.9742919753368297.\n"
     ]
    },
    {
     "name": "stderr",
     "output_type": "stream",
     "text": [
      "Best trial: 14. Best value: 0.974292:  57%|█████▋    | 17/30 [00:10<00:12,  1.02it/s]"
     ]
    },
    {
     "name": "stdout",
     "output_type": "stream",
     "text": [
      "[I 2025-07-16 18:11:02,676] Trial 16 finished with value: 0.9742316780656459 and parameters: {'learning_rate': 0.18200595576952416, 'num_leaves': 89, 'max_depth': 9, 'min_child_samples': 22, 'subsample': 0.9337093670482357, 'colsample_bytree': 0.9901140009672039, 'reg_alpha': 9.264279682392376e-06, 'reg_lambda': 1.2955179095086939e-06}. Best is trial 14 with value: 0.9742919753368297.\n"
     ]
    },
    {
     "name": "stderr",
     "output_type": "stream",
     "text": [
      "Best trial: 14. Best value: 0.974292:  60%|██████    | 18/30 [00:11<00:11,  1.09it/s]"
     ]
    },
    {
     "name": "stdout",
     "output_type": "stream",
     "text": [
      "[I 2025-07-16 18:11:03,456] Trial 17 finished with value: 0.8790923874422022 and parameters: {'learning_rate': 0.010625180327304536, 'num_leaves': 74, 'max_depth': 8, 'min_child_samples': 39, 'subsample': 0.8230035851821976, 'colsample_bytree': 0.9051792691469951, 'reg_alpha': 0.012332081089127356, 'reg_lambda': 2.196365536781587e-08}. Best is trial 14 with value: 0.9742919753368297.\n"
     ]
    },
    {
     "name": "stderr",
     "output_type": "stream",
     "text": [
      "Best trial: 14. Best value: 0.974292:  63%|██████▎   | 19/30 [00:11<00:08,  1.26it/s]"
     ]
    },
    {
     "name": "stdout",
     "output_type": "stream",
     "text": [
      "[I 2025-07-16 18:11:03,962] Trial 18 finished with value: 0.955786867833701 and parameters: {'learning_rate': 0.06093683614218919, 'num_leaves': 103, 'max_depth': 6, 'min_child_samples': 67, 'subsample': 0.6246930419559292, 'colsample_bytree': 0.8688411538288817, 'reg_alpha': 1.032720331569944e-06, 'reg_lambda': 1.8347940367525097e-06}. Best is trial 14 with value: 0.9742919753368297.\n"
     ]
    },
    {
     "name": "stderr",
     "output_type": "stream",
     "text": [
      "Best trial: 14. Best value: 0.974292:  67%|██████▋   | 20/30 [00:13<00:10,  1.09s/it]"
     ]
    },
    {
     "name": "stdout",
     "output_type": "stream",
     "text": [
      "[I 2025-07-16 18:11:05,746] Trial 19 finished with value: 0.9576800141279345 and parameters: {'learning_rate': 0.1318852683776573, 'num_leaves': 76, 'max_depth': 9, 'min_child_samples': 17, 'subsample': 0.9282234986813324, 'colsample_bytree': 0.7080228162376727, 'reg_alpha': 2.7268049735702506e-05, 'reg_lambda': 2.0948289607514079e-07}. Best is trial 14 with value: 0.9742919753368297.\n"
     ]
    },
    {
     "name": "stderr",
     "output_type": "stream",
     "text": [
      "Best trial: 14. Best value: 0.974292:  70%|███████   | 21/30 [00:14<00:09,  1.09s/it]"
     ]
    },
    {
     "name": "stdout",
     "output_type": "stream",
     "text": [
      "[I 2025-07-16 18:11:06,843] Trial 20 finished with value: 0.9666186009296938 and parameters: {'learning_rate': 0.04656158174987105, 'num_leaves': 54, 'max_depth': 8, 'min_child_samples': 31, 'subsample': 0.8433198688426167, 'colsample_bytree': 0.9556184388027876, 'reg_alpha': 1.7861310517447063e-07, 'reg_lambda': 1.0739056640399275e-08}. Best is trial 14 with value: 0.9742919753368297.\n"
     ]
    },
    {
     "name": "stderr",
     "output_type": "stream",
     "text": [
      "Best trial: 21. Best value: 0.975861:  73%|███████▎  | 22/30 [00:16<00:09,  1.16s/it]"
     ]
    },
    {
     "name": "stdout",
     "output_type": "stream",
     "text": [
      "[I 2025-07-16 18:11:08,156] Trial 21 finished with value: 0.975861027533447 and parameters: {'learning_rate': 0.2026423734492729, 'num_leaves': 83, 'max_depth': 9, 'min_child_samples': 21, 'subsample': 0.9419098599507807, 'colsample_bytree': 0.9985816372861133, 'reg_alpha': 2.8281359110848526e-05, 'reg_lambda': 2.243813364676738e-06}. Best is trial 21 with value: 0.975861027533447.\n"
     ]
    },
    {
     "name": "stderr",
     "output_type": "stream",
     "text": [
      "Best trial: 21. Best value: 0.975861:  77%|███████▋  | 23/30 [00:17<00:07,  1.12s/it]"
     ]
    },
    {
     "name": "stdout",
     "output_type": "stream",
     "text": [
      "[I 2025-07-16 18:11:09,179] Trial 22 finished with value: 0.9750707521435877 and parameters: {'learning_rate': 0.22113065714572097, 'num_leaves': 78, 'max_depth': 9, 'min_child_samples': 41, 'subsample': 0.9492254916122467, 'colsample_bytree': 0.9923419372824637, 'reg_alpha': 2.5611231554647684e-06, 'reg_lambda': 6.74594474207201e-06}. Best is trial 21 with value: 0.975861027533447.\n"
     ]
    },
    {
     "name": "stderr",
     "output_type": "stream",
     "text": [
      "Best trial: 21. Best value: 0.975861:  80%|████████  | 24/30 [00:17<00:06,  1.02s/it]"
     ]
    },
    {
     "name": "stdout",
     "output_type": "stream",
     "text": [
      "[I 2025-07-16 18:11:09,975] Trial 23 finished with value: 0.9696535741627927 and parameters: {'learning_rate': 0.0946455979983113, 'num_leaves': 79, 'max_depth': 7, 'min_child_samples': 41, 'subsample': 0.90202149119329, 'colsample_bytree': 0.9883924285579079, 'reg_alpha': 3.8432716164245766e-05, 'reg_lambda': 5.3013768008363784e-06}. Best is trial 21 with value: 0.975861027533447.\n"
     ]
    },
    {
     "name": "stderr",
     "output_type": "stream",
     "text": [
      "Best trial: 21. Best value: 0.975861:  83%|████████▎ | 25/30 [00:18<00:04,  1.04it/s]"
     ]
    },
    {
     "name": "stdout",
     "output_type": "stream",
     "text": [
      "[I 2025-07-16 18:11:10,793] Trial 24 finished with value: 0.97343599775665 and parameters: {'learning_rate': 0.17422583877858636, 'num_leaves': 106, 'max_depth': 9, 'min_child_samples': 58, 'subsample': 0.9450287481396447, 'colsample_bytree': 0.9977480340964048, 'reg_alpha': 5.8180971620992046e-05, 'reg_lambda': 0.0009867061965158075}. Best is trial 21 with value: 0.975861027533447.\n"
     ]
    },
    {
     "name": "stderr",
     "output_type": "stream",
     "text": [
      "Best trial: 21. Best value: 0.975861:  87%|████████▋ | 26/30 [00:19<00:04,  1.02s/it]"
     ]
    },
    {
     "name": "stdout",
     "output_type": "stream",
     "text": [
      "[I 2025-07-16 18:11:11,939] Trial 25 finished with value: 0.9742210740272196 and parameters: {'learning_rate': 0.11560618077053825, 'num_leaves': 85, 'max_depth': 8, 'min_child_samples': 30, 'subsample': 0.7962605550009859, 'colsample_bytree': 0.9527802567376379, 'reg_alpha': 1.291802748932346e-07, 'reg_lambda': 4.738795388576819e-07}. Best is trial 21 with value: 0.975861027533447.\n"
     ]
    },
    {
     "name": "stderr",
     "output_type": "stream",
     "text": [
      "Best trial: 21. Best value: 0.975861:  90%|█████████ | 27/30 [00:20<00:03,  1.02s/it]"
     ]
    },
    {
     "name": "stdout",
     "output_type": "stream",
     "text": [
      "[I 2025-07-16 18:11:12,957] Trial 26 finished with value: 0.9743093184493569 and parameters: {'learning_rate': 0.1994857645611896, 'num_leaves': 99, 'max_depth': 7, 'min_child_samples': 14, 'subsample': 0.8760001912092821, 'colsample_bytree': 0.9304615408952743, 'reg_alpha': 0.004541670436391, 'reg_lambda': 8.329496282685472e-06}. Best is trial 21 with value: 0.975861027533447.\n"
     ]
    },
    {
     "name": "stderr",
     "output_type": "stream",
     "text": [
      "Best trial: 21. Best value: 0.975861:  93%|█████████▎| 28/30 [00:21<00:01,  1.03it/s]"
     ]
    },
    {
     "name": "stdout",
     "output_type": "stream",
     "text": [
      "[I 2025-07-16 18:11:13,815] Trial 27 finished with value: 0.9712151380635621 and parameters: {'learning_rate': 0.20078428224368222, 'num_leaves': 100, 'max_depth': 6, 'min_child_samples': 13, 'subsample': 0.8959763825317852, 'colsample_bytree': 0.9324406760802145, 'reg_alpha': 0.006863634265334291, 'reg_lambda': 1.0372625044729226e-05}. Best is trial 21 with value: 0.975861027533447.\n"
     ]
    },
    {
     "name": "stderr",
     "output_type": "stream",
     "text": [
      "Best trial: 21. Best value: 0.975861:  97%|█████████▋| 29/30 [00:22<00:00,  1.21it/s]"
     ]
    },
    {
     "name": "stdout",
     "output_type": "stream",
     "text": [
      "[I 2025-07-16 18:11:14,312] Trial 28 finished with value: 0.8765182815933337 and parameters: {'learning_rate': 0.022343457080348066, 'num_leaves': 69, 'max_depth': 5, 'min_child_samples': 44, 'subsample': 0.9575242251340672, 'colsample_bytree': 0.9986466334232661, 'reg_alpha': 0.055279474575946196, 'reg_lambda': 2.344889109723794e-05}. Best is trial 21 with value: 0.975861027533447.\n"
     ]
    },
    {
     "name": "stderr",
     "output_type": "stream",
     "text": [
      "Best trial: 21. Best value: 0.975861: 100%|██████████| 30/30 [00:22<00:00,  1.31it/s]"
     ]
    },
    {
     "name": "stdout",
     "output_type": "stream",
     "text": [
      "[I 2025-07-16 18:11:14,965] Trial 29 finished with value: 0.9631978524013641 and parameters: {'learning_rate': 0.060057043321136795, 'num_leaves': 62, 'max_depth': 7, 'min_child_samples': 59, 'subsample': 0.9489036154174751, 'colsample_bytree': 0.860197151890462, 'reg_alpha': 0.0026723746248600477, 'reg_lambda': 0.0013753855344367197}. Best is trial 21 with value: 0.975861027533447.\n",
      "Melhores hiperparâmetros encontrados:\n",
      "{'learning_rate': 0.2026423734492729, 'num_leaves': 83, 'max_depth': 9, 'min_child_samples': 21, 'subsample': 0.9419098599507807, 'colsample_bytree': 0.9985816372861133, 'reg_alpha': 2.8281359110848526e-05, 'reg_lambda': 2.243813364676738e-06}\n",
      "Melhor F1 médio (CV): 0.9759\n"
     ]
    },
    {
     "name": "stderr",
     "output_type": "stream",
     "text": [
      "\n"
     ]
    }
   ],
   "source": [
    "def objective(trial):\n",
    "    param = {\n",
    "        \"objective\": \"binary\",\n",
    "        \"metric\": \"None\",\n",
    "        \"verbosity\": -1,\n",
    "        \"boosting_type\": \"gbdt\",\n",
    "        \"learning_rate\": trial.suggest_float(\"learning_rate\", 1e-3, 0.3, log=True),\n",
    "        \"num_leaves\": trial.suggest_int(\"num_leaves\", 7, 128),\n",
    "        \"max_depth\": trial.suggest_int(\"max_depth\", 2, 10),\n",
    "        \"min_child_samples\": trial.suggest_int(\"min_child_samples\", 5, 100),\n",
    "        \"subsample\": trial.suggest_float(\"subsample\", 0.5, 1.0),\n",
    "        \"colsample_bytree\": trial.suggest_float(\"colsample_bytree\", 0.5, 1.0),\n",
    "        \"reg_alpha\": trial.suggest_float(\"reg_alpha\", 1e-8, 10.0, log=True),\n",
    "        \"reg_lambda\": trial.suggest_float(\"reg_lambda\", 1e-8, 10.0, log=True),\n",
    "        \"random_state\": 42,\n",
    "        \"n_jobs\": -1,\n",
    "    }\n",
    "    cv = StratifiedKFold(n_splits=5, shuffle=True, random_state=42)\n",
    "    scores = []\n",
    "    for train_idx, valid_idx in cv.split(X_train, y_train):\n",
    "        X_tr, X_val = X_train.iloc[train_idx], X_train.iloc[valid_idx]\n",
    "        y_tr, y_val = y_train.iloc[train_idx], y_train.iloc[valid_idx]\n",
    "        lgbm = lgb.LGBMClassifier(**param)\n",
    "        lgbm.fit(X_tr, y_tr)\n",
    "        y_pred = lgbm.predict(X_val)\n",
    "        score = f1_score(y_val, y_pred)\n",
    "        scores.append(score)\n",
    "    return sum(scores) / len(scores)\n",
    "\n",
    "\n",
    "study = optuna.create_study(direction=\"maximize\")\n",
    "study.optimize(objective, n_trials=30, show_progress_bar=True)\n",
    "\n",
    "print(\"Melhores hiperparâmetros encontrados:\")\n",
    "print(study.best_params)\n",
    "print(f\"Melhor F1 médio (CV): {study.best_value:.4f}\")\n"
   ]
  }
 ],
 "metadata": {
  "kernelspec": {
   "display_name": ".venv",
   "language": "python",
   "name": "python3"
  },
  "language_info": {
   "codemirror_mode": {
    "name": "ipython",
    "version": 3
   },
   "file_extension": ".py",
   "mimetype": "text/x-python",
   "name": "python",
   "nbconvert_exporter": "python",
   "pygments_lexer": "ipython3",
   "version": "3.12.9"
  }
 },
 "nbformat": 4,
 "nbformat_minor": 5
}
