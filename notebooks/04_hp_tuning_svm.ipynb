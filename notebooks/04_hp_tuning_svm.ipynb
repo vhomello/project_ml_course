{
 "cells": [
  {
   "cell_type": "code",
   "execution_count": null,
   "id": "865ec204",
   "metadata": {},
   "outputs": [
    {
     "name": "stderr",
     "output_type": "stream",
     "text": [
      "/Users/vitor.mello/vho/project_ml_course/.venv/lib/python3.12/site-packages/tqdm/auto.py:21: TqdmWarning: IProgress not found. Please update jupyter and ipywidgets. See https://ipywidgets.readthedocs.io/en/stable/user_install.html\n",
      "  from .autonotebook import tqdm as notebook_tqdm\n"
     ]
    }
   ],
   "source": [
    "import optuna\n",
    "import pandas as pd\n",
    "from sklearn.svm import SVC\n",
    "from sklearn.pipeline import Pipeline\n",
    "from sklearn.model_selection import cross_val_score, StratifiedKFold\n",
    "from sklearn.metrics import f1_score, make_scorer\n",
    "from sklearn.model_selection import train_test_split"
   ]
  },
  {
   "cell_type": "code",
   "execution_count": null,
   "id": "802f000d",
   "metadata": {},
   "outputs": [],
   "source": [
    "raw_df = pd.read_csv(\"../data/dados.csv\", index_col=\"Unnamed: 0\")\n",
    "\n",
    "features = [\"feat_8\", \"feat_17\", \"feat_50\"]\n",
    "\n",
    "X = raw_df[features]\n",
    "y = raw_df[\"class\"]\n",
    "\n",
    "# Separar treino e teste\n",
    "X_train, X_test, y_train, y_test = train_test_split(\n",
    "    X, y, test_size=0.2, random_state=42, stratify=y\n",
    ")"
   ]
  },
  {
   "cell_type": "code",
   "execution_count": 5,
   "id": "f74a3025",
   "metadata": {},
   "outputs": [
    {
     "name": "stderr",
     "output_type": "stream",
     "text": [
      "[I 2025-07-16 18:07:51,992] A new study created in memory with name: no-name-d7982795-e61a-4a72-b4d0-32edb5f6d846\n",
      "  0%|          | 0/30 [00:00<?, ?it/s]/var/folders/p5/0wjpw3594x53gr6w8yv_trj40000gq/T/ipykernel_97050/1272272289.py:2: FutureWarning: suggest_loguniform has been deprecated in v3.0.0. This feature will be removed in v6.0.0. See https://github.com/optuna/optuna/releases/tag/v3.0.0. Use suggest_float(..., log=True) instead.\n",
      "  C = trial.suggest_loguniform(\"C\", 1e-3, 100)\n",
      "Best trial: 0. Best value: 0.457244:   3%|▎         | 1/30 [00:00<00:18,  1.53it/s]/var/folders/p5/0wjpw3594x53gr6w8yv_trj40000gq/T/ipykernel_97050/1272272289.py:2: FutureWarning: suggest_loguniform has been deprecated in v3.0.0. This feature will be removed in v6.0.0. See https://github.com/optuna/optuna/releases/tag/v3.0.0. Use suggest_float(..., log=True) instead.\n",
      "  C = trial.suggest_loguniform(\"C\", 1e-3, 100)\n"
     ]
    },
    {
     "name": "stdout",
     "output_type": "stream",
     "text": [
      "[I 2025-07-16 18:07:52,647] Trial 0 finished with value: 0.4572443634772281 and parameters: {'C': 0.0024633138036785425, 'kernel': 'sigmoid'}. Best is trial 0 with value: 0.4572443634772281.\n"
     ]
    },
    {
     "name": "stderr",
     "output_type": "stream",
     "text": [
      "Best trial: 1. Best value: 0.589866:   7%|▋         | 2/30 [00:01<00:15,  1.84it/s]/var/folders/p5/0wjpw3594x53gr6w8yv_trj40000gq/T/ipykernel_97050/1272272289.py:2: FutureWarning: suggest_loguniform has been deprecated in v3.0.0. This feature will be removed in v6.0.0. See https://github.com/optuna/optuna/releases/tag/v3.0.0. Use suggest_float(..., log=True) instead.\n",
      "  C = trial.suggest_loguniform(\"C\", 1e-3, 100)\n"
     ]
    },
    {
     "name": "stdout",
     "output_type": "stream",
     "text": [
      "[I 2025-07-16 18:07:53,114] Trial 1 finished with value: 0.5898655005116802 and parameters: {'C': 0.6718709154692556, 'kernel': 'poly', 'degree': 3}. Best is trial 1 with value: 0.5898655005116802.\n"
     ]
    },
    {
     "name": "stderr",
     "output_type": "stream",
     "text": [
      "Best trial: 1. Best value: 0.589866:  10%|█         | 3/30 [00:01<00:15,  1.70it/s]/var/folders/p5/0wjpw3594x53gr6w8yv_trj40000gq/T/ipykernel_97050/1272272289.py:2: FutureWarning: suggest_loguniform has been deprecated in v3.0.0. This feature will be removed in v6.0.0. See https://github.com/optuna/optuna/releases/tag/v3.0.0. Use suggest_float(..., log=True) instead.\n",
      "  C = trial.suggest_loguniform(\"C\", 1e-3, 100)\n"
     ]
    },
    {
     "name": "stdout",
     "output_type": "stream",
     "text": [
      "[I 2025-07-16 18:07:53,755] Trial 2 finished with value: 0.0 and parameters: {'C': 0.006700940578991396, 'kernel': 'sigmoid'}. Best is trial 1 with value: 0.5898655005116802.\n"
     ]
    },
    {
     "name": "stderr",
     "output_type": "stream",
     "text": [
      "Best trial: 1. Best value: 0.589866:  13%|█▎        | 4/30 [00:02<00:15,  1.66it/s]/var/folders/p5/0wjpw3594x53gr6w8yv_trj40000gq/T/ipykernel_97050/1272272289.py:2: FutureWarning: suggest_loguniform has been deprecated in v3.0.0. This feature will be removed in v6.0.0. See https://github.com/optuna/optuna/releases/tag/v3.0.0. Use suggest_float(..., log=True) instead.\n",
      "  C = trial.suggest_loguniform(\"C\", 1e-3, 100)\n"
     ]
    },
    {
     "name": "stdout",
     "output_type": "stream",
     "text": [
      "[I 2025-07-16 18:07:54,382] Trial 3 finished with value: 0.5517241379310345 and parameters: {'C': 0.004672322781473244, 'kernel': 'rbf'}. Best is trial 1 with value: 0.5898655005116802.\n"
     ]
    },
    {
     "name": "stderr",
     "output_type": "stream",
     "text": [
      "Best trial: 4. Best value: 0.797458:  17%|█▋        | 5/30 [00:02<00:12,  2.02it/s]/var/folders/p5/0wjpw3594x53gr6w8yv_trj40000gq/T/ipykernel_97050/1272272289.py:2: FutureWarning: suggest_loguniform has been deprecated in v3.0.0. This feature will be removed in v6.0.0. See https://github.com/optuna/optuna/releases/tag/v3.0.0. Use suggest_float(..., log=True) instead.\n",
      "  C = trial.suggest_loguniform(\"C\", 1e-3, 100)\n"
     ]
    },
    {
     "name": "stdout",
     "output_type": "stream",
     "text": [
      "[I 2025-07-16 18:07:54,687] Trial 4 finished with value: 0.7974575729048841 and parameters: {'C': 0.5111749163113858, 'kernel': 'poly', 'degree': 4}. Best is trial 4 with value: 0.7974575729048841.\n"
     ]
    },
    {
     "name": "stderr",
     "output_type": "stream",
     "text": [
      "Best trial: 4. Best value: 0.797458:  20%|██        | 6/30 [00:03<00:13,  1.84it/s]/var/folders/p5/0wjpw3594x53gr6w8yv_trj40000gq/T/ipykernel_97050/1272272289.py:2: FutureWarning: suggest_loguniform has been deprecated in v3.0.0. This feature will be removed in v6.0.0. See https://github.com/optuna/optuna/releases/tag/v3.0.0. Use suggest_float(..., log=True) instead.\n",
      "  C = trial.suggest_loguniform(\"C\", 1e-3, 100)\n"
     ]
    },
    {
     "name": "stdout",
     "output_type": "stream",
     "text": [
      "[I 2025-07-16 18:07:55,322] Trial 5 finished with value: 0.5517241379310345 and parameters: {'C': 0.0032919877243925678, 'kernel': 'sigmoid'}. Best is trial 4 with value: 0.7974575729048841.\n"
     ]
    },
    {
     "name": "stderr",
     "output_type": "stream",
     "text": [
      "Best trial: 4. Best value: 0.797458:  23%|██▎       | 7/30 [00:03<00:11,  2.02it/s]/var/folders/p5/0wjpw3594x53gr6w8yv_trj40000gq/T/ipykernel_97050/1272272289.py:2: FutureWarning: suggest_loguniform has been deprecated in v3.0.0. This feature will be removed in v6.0.0. See https://github.com/optuna/optuna/releases/tag/v3.0.0. Use suggest_float(..., log=True) instead.\n",
      "  C = trial.suggest_loguniform(\"C\", 1e-3, 100)\n"
     ]
    },
    {
     "name": "stdout",
     "output_type": "stream",
     "text": [
      "[I 2025-07-16 18:07:55,721] Trial 6 finished with value: 0.43740983089953345 and parameters: {'C': 6.743343797714176, 'kernel': 'sigmoid'}. Best is trial 4 with value: 0.7974575729048841.\n"
     ]
    },
    {
     "name": "stderr",
     "output_type": "stream",
     "text": [
      "Best trial: 7. Best value: 0.941981:  27%|██▋       | 8/30 [00:04<00:10,  2.16it/s]/var/folders/p5/0wjpw3594x53gr6w8yv_trj40000gq/T/ipykernel_97050/1272272289.py:2: FutureWarning: suggest_loguniform has been deprecated in v3.0.0. This feature will be removed in v6.0.0. See https://github.com/optuna/optuna/releases/tag/v3.0.0. Use suggest_float(..., log=True) instead.\n",
      "  C = trial.suggest_loguniform(\"C\", 1e-3, 100)\n"
     ]
    },
    {
     "name": "stdout",
     "output_type": "stream",
     "text": [
      "[I 2025-07-16 18:07:56,112] Trial 7 finished with value: 0.941981166293434 and parameters: {'C': 0.5298534831187143, 'kernel': 'rbf'}. Best is trial 7 with value: 0.941981166293434.\n"
     ]
    },
    {
     "name": "stderr",
     "output_type": "stream",
     "text": [
      "Best trial: 7. Best value: 0.941981:  30%|███       | 9/30 [00:04<00:11,  1.91it/s]/var/folders/p5/0wjpw3594x53gr6w8yv_trj40000gq/T/ipykernel_97050/1272272289.py:2: FutureWarning: suggest_loguniform has been deprecated in v3.0.0. This feature will be removed in v6.0.0. See https://github.com/optuna/optuna/releases/tag/v3.0.0. Use suggest_float(..., log=True) instead.\n",
      "  C = trial.suggest_loguniform(\"C\", 1e-3, 100)\n"
     ]
    },
    {
     "name": "stdout",
     "output_type": "stream",
     "text": [
      "[I 2025-07-16 18:07:56,773] Trial 8 finished with value: 0.0 and parameters: {'C': 0.003152630692077122, 'kernel': 'sigmoid'}. Best is trial 7 with value: 0.941981166293434.\n"
     ]
    },
    {
     "name": "stderr",
     "output_type": "stream",
     "text": [
      "Best trial: 7. Best value: 0.941981:  33%|███▎      | 10/30 [00:05<00:09,  2.01it/s]/var/folders/p5/0wjpw3594x53gr6w8yv_trj40000gq/T/ipykernel_97050/1272272289.py:2: FutureWarning: suggest_loguniform has been deprecated in v3.0.0. This feature will be removed in v6.0.0. See https://github.com/optuna/optuna/releases/tag/v3.0.0. Use suggest_float(..., log=True) instead.\n",
      "  C = trial.suggest_loguniform(\"C\", 1e-3, 100)\n",
      "Best trial: 10. Best value: 0.978376:  37%|███▋      | 11/30 [00:05<00:07,  2.56it/s]/var/folders/p5/0wjpw3594x53gr6w8yv_trj40000gq/T/ipykernel_97050/1272272289.py:2: FutureWarning: suggest_loguniform has been deprecated in v3.0.0. This feature will be removed in v6.0.0. See https://github.com/optuna/optuna/releases/tag/v3.0.0. Use suggest_float(..., log=True) instead.\n",
      "  C = trial.suggest_loguniform(\"C\", 1e-3, 100)\n"
     ]
    },
    {
     "name": "stdout",
     "output_type": "stream",
     "text": [
      "[I 2025-07-16 18:07:57,210] Trial 9 finished with value: 0.44083495590453126 and parameters: {'C': 1.1392214065464843, 'kernel': 'sigmoid'}. Best is trial 7 with value: 0.941981166293434.\n",
      "[I 2025-07-16 18:07:57,356] Trial 10 finished with value: 0.9783763642381501 and parameters: {'C': 82.06690896391167, 'kernel': 'rbf'}. Best is trial 10 with value: 0.9783763642381501.\n"
     ]
    },
    {
     "name": "stderr",
     "output_type": "stream",
     "text": [
      "Best trial: 10. Best value: 0.978376:  40%|████      | 12/30 [00:05<00:05,  3.17it/s]/var/folders/p5/0wjpw3594x53gr6w8yv_trj40000gq/T/ipykernel_97050/1272272289.py:2: FutureWarning: suggest_loguniform has been deprecated in v3.0.0. This feature will be removed in v6.0.0. See https://github.com/optuna/optuna/releases/tag/v3.0.0. Use suggest_float(..., log=True) instead.\n",
      "  C = trial.suggest_loguniform(\"C\", 1e-3, 100)\n",
      "Best trial: 10. Best value: 0.978376:  43%|████▎     | 13/30 [00:05<00:04,  3.80it/s]/var/folders/p5/0wjpw3594x53gr6w8yv_trj40000gq/T/ipykernel_97050/1272272289.py:2: FutureWarning: suggest_loguniform has been deprecated in v3.0.0. This feature will be removed in v6.0.0. See https://github.com/optuna/optuna/releases/tag/v3.0.0. Use suggest_float(..., log=True) instead.\n",
      "  C = trial.suggest_loguniform(\"C\", 1e-3, 100)\n"
     ]
    },
    {
     "name": "stdout",
     "output_type": "stream",
     "text": [
      "[I 2025-07-16 18:07:57,502] Trial 11 finished with value: 0.9776163934210296 and parameters: {'C': 62.18137437541473, 'kernel': 'rbf'}. Best is trial 10 with value: 0.9783763642381501.\n",
      "[I 2025-07-16 18:07:57,645] Trial 12 finished with value: 0.9783763642381501 and parameters: {'C': 93.76470378460532, 'kernel': 'rbf'}. Best is trial 10 with value: 0.9783763642381501.\n"
     ]
    },
    {
     "name": "stderr",
     "output_type": "stream",
     "text": [
      "Best trial: 10. Best value: 0.978376:  47%|████▋     | 14/30 [00:35<02:27,  9.21s/it]/var/folders/p5/0wjpw3594x53gr6w8yv_trj40000gq/T/ipykernel_97050/1272272289.py:2: FutureWarning: suggest_loguniform has been deprecated in v3.0.0. This feature will be removed in v6.0.0. See https://github.com/optuna/optuna/releases/tag/v3.0.0. Use suggest_float(..., log=True) instead.\n",
      "  C = trial.suggest_loguniform(\"C\", 1e-3, 100)\n"
     ]
    },
    {
     "name": "stdout",
     "output_type": "stream",
     "text": [
      "[I 2025-07-16 18:08:27,543] Trial 13 finished with value: 0.46421087619681867 and parameters: {'C': 68.48571391763952, 'kernel': 'linear'}. Best is trial 10 with value: 0.9783763642381501.\n"
     ]
    },
    {
     "name": "stderr",
     "output_type": "stream",
     "text": [
      "Best trial: 14. Best value: 0.981573:  50%|█████     | 15/30 [00:35<01:37,  6.50s/it]/var/folders/p5/0wjpw3594x53gr6w8yv_trj40000gq/T/ipykernel_97050/1272272289.py:2: FutureWarning: suggest_loguniform has been deprecated in v3.0.0. This feature will be removed in v6.0.0. See https://github.com/optuna/optuna/releases/tag/v3.0.0. Use suggest_float(..., log=True) instead.\n",
      "  C = trial.suggest_loguniform(\"C\", 1e-3, 100)\n",
      "Best trial: 14. Best value: 0.981573:  53%|█████▎    | 16/30 [00:35<01:04,  4.60s/it]/var/folders/p5/0wjpw3594x53gr6w8yv_trj40000gq/T/ipykernel_97050/1272272289.py:2: FutureWarning: suggest_loguniform has been deprecated in v3.0.0. This feature will be removed in v6.0.0. See https://github.com/optuna/optuna/releases/tag/v3.0.0. Use suggest_float(..., log=True) instead.\n",
      "  C = trial.suggest_loguniform(\"C\", 1e-3, 100)\n"
     ]
    },
    {
     "name": "stdout",
     "output_type": "stream",
     "text": [
      "[I 2025-07-16 18:08:27,761] Trial 14 finished with value: 0.9815725326540512 and parameters: {'C': 9.754981741396318, 'kernel': 'rbf'}. Best is trial 14 with value: 0.9815725326540512.\n",
      "[I 2025-07-16 18:08:27,941] Trial 15 finished with value: 0.9785427675791947 and parameters: {'C': 8.082325785471395, 'kernel': 'rbf'}. Best is trial 14 with value: 0.9815725326540512.\n"
     ]
    },
    {
     "name": "stderr",
     "output_type": "stream",
     "text": [
      "Best trial: 14. Best value: 0.981573:  57%|█████▋    | 17/30 [00:37<00:49,  3.77s/it]/var/folders/p5/0wjpw3594x53gr6w8yv_trj40000gq/T/ipykernel_97050/1272272289.py:2: FutureWarning: suggest_loguniform has been deprecated in v3.0.0. This feature will be removed in v6.0.0. See https://github.com/optuna/optuna/releases/tag/v3.0.0. Use suggest_float(..., log=True) instead.\n",
      "  C = trial.suggest_loguniform(\"C\", 1e-3, 100)\n"
     ]
    },
    {
     "name": "stdout",
     "output_type": "stream",
     "text": [
      "[I 2025-07-16 18:08:29,787] Trial 16 finished with value: 0.46421087619681867 and parameters: {'C': 6.808659580057067, 'kernel': 'linear'}. Best is trial 14 with value: 0.9815725326540512.\n"
     ]
    },
    {
     "name": "stderr",
     "output_type": "stream",
     "text": [
      "Best trial: 14. Best value: 0.981573:  60%|██████    | 18/30 [00:38<00:33,  2.79s/it]/var/folders/p5/0wjpw3594x53gr6w8yv_trj40000gq/T/ipykernel_97050/1272272289.py:2: FutureWarning: suggest_loguniform has been deprecated in v3.0.0. This feature will be removed in v6.0.0. See https://github.com/optuna/optuna/releases/tag/v3.0.0. Use suggest_float(..., log=True) instead.\n",
      "  C = trial.suggest_loguniform(\"C\", 1e-3, 100)\n",
      "Best trial: 14. Best value: 0.981573:  63%|██████▎   | 19/30 [00:38<00:22,  2.01s/it]/var/folders/p5/0wjpw3594x53gr6w8yv_trj40000gq/T/ipykernel_97050/1272272289.py:2: FutureWarning: suggest_loguniform has been deprecated in v3.0.0. This feature will be removed in v6.0.0. See https://github.com/optuna/optuna/releases/tag/v3.0.0. Use suggest_float(..., log=True) instead.\n",
      "  C = trial.suggest_loguniform(\"C\", 1e-3, 100)\n"
     ]
    },
    {
     "name": "stdout",
     "output_type": "stream",
     "text": [
      "[I 2025-07-16 18:08:30,305] Trial 17 finished with value: 0.7925769558298678 and parameters: {'C': 0.08862604580335574, 'kernel': 'rbf'}. Best is trial 14 with value: 0.9815725326540512.\n",
      "[I 2025-07-16 18:08:30,487] Trial 18 finished with value: 0.9808237976068165 and parameters: {'C': 8.686991441735804, 'kernel': 'rbf'}. Best is trial 14 with value: 0.9815725326540512.\n"
     ]
    },
    {
     "name": "stderr",
     "output_type": "stream",
     "text": [
      "Best trial: 14. Best value: 0.981573:  67%|██████▋   | 20/30 [00:39<00:15,  1.57s/it]/var/folders/p5/0wjpw3594x53gr6w8yv_trj40000gq/T/ipykernel_97050/1272272289.py:2: FutureWarning: suggest_loguniform has been deprecated in v3.0.0. This feature will be removed in v6.0.0. See https://github.com/optuna/optuna/releases/tag/v3.0.0. Use suggest_float(..., log=True) instead.\n",
      "  C = trial.suggest_loguniform(\"C\", 1e-3, 100)\n"
     ]
    },
    {
     "name": "stdout",
     "output_type": "stream",
     "text": [
      "[I 2025-07-16 18:08:31,049] Trial 19 finished with value: 0.7979498521964633 and parameters: {'C': 0.04664779623434175, 'kernel': 'rbf'}. Best is trial 14 with value: 0.9815725326540512.\n"
     ]
    },
    {
     "name": "stderr",
     "output_type": "stream",
     "text": [
      "Best trial: 14. Best value: 0.981573:  70%|███████   | 21/30 [00:45<00:28,  3.19s/it]/var/folders/p5/0wjpw3594x53gr6w8yv_trj40000gq/T/ipykernel_97050/1272272289.py:2: FutureWarning: suggest_loguniform has been deprecated in v3.0.0. This feature will be removed in v6.0.0. See https://github.com/optuna/optuna/releases/tag/v3.0.0. Use suggest_float(..., log=True) instead.\n",
      "  C = trial.suggest_loguniform(\"C\", 1e-3, 100)\n"
     ]
    },
    {
     "name": "stdout",
     "output_type": "stream",
     "text": [
      "[I 2025-07-16 18:08:37,989] Trial 20 finished with value: 0.5826230274743924 and parameters: {'C': 17.73935887426637, 'kernel': 'poly', 'degree': 5}. Best is trial 14 with value: 0.9815725326540512.\n"
     ]
    },
    {
     "name": "stderr",
     "output_type": "stream",
     "text": [
      "Best trial: 14. Best value: 0.981573:  73%|███████▎  | 22/30 [00:46<00:18,  2.30s/it]/var/folders/p5/0wjpw3594x53gr6w8yv_trj40000gq/T/ipykernel_97050/1272272289.py:2: FutureWarning: suggest_loguniform has been deprecated in v3.0.0. This feature will be removed in v6.0.0. See https://github.com/optuna/optuna/releases/tag/v3.0.0. Use suggest_float(..., log=True) instead.\n",
      "  C = trial.suggest_loguniform(\"C\", 1e-3, 100)\n",
      "Best trial: 14. Best value: 0.981573:  77%|███████▋  | 23/30 [00:46<00:11,  1.66s/it]/var/folders/p5/0wjpw3594x53gr6w8yv_trj40000gq/T/ipykernel_97050/1272272289.py:2: FutureWarning: suggest_loguniform has been deprecated in v3.0.0. This feature will be removed in v6.0.0. See https://github.com/optuna/optuna/releases/tag/v3.0.0. Use suggest_float(..., log=True) instead.\n",
      "  C = trial.suggest_loguniform(\"C\", 1e-3, 100)\n"
     ]
    },
    {
     "name": "stdout",
     "output_type": "stream",
     "text": [
      "[I 2025-07-16 18:08:38,218] Trial 21 finished with value: 0.9733353395868463 and parameters: {'C': 3.063643340875016, 'kernel': 'rbf'}. Best is trial 14 with value: 0.9815725326540512.\n",
      "[I 2025-07-16 18:08:38,384] Trial 22 finished with value: 0.9792212394251841 and parameters: {'C': 15.513909777698526, 'kernel': 'rbf'}. Best is trial 14 with value: 0.9815725326540512.\n"
     ]
    },
    {
     "name": "stderr",
     "output_type": "stream",
     "text": [
      "Best trial: 14. Best value: 0.981573:  80%|████████  | 24/30 [00:46<00:07,  1.21s/it]/var/folders/p5/0wjpw3594x53gr6w8yv_trj40000gq/T/ipykernel_97050/1272272289.py:2: FutureWarning: suggest_loguniform has been deprecated in v3.0.0. This feature will be removed in v6.0.0. See https://github.com/optuna/optuna/releases/tag/v3.0.0. Use suggest_float(..., log=True) instead.\n",
      "  C = trial.suggest_loguniform(\"C\", 1e-3, 100)\n"
     ]
    },
    {
     "name": "stdout",
     "output_type": "stream",
     "text": [
      "[I 2025-07-16 18:08:38,546] Trial 23 finished with value: 0.9792849387992284 and parameters: {'C': 18.000527217283764, 'kernel': 'rbf'}. Best is trial 14 with value: 0.9815725326540512.\n"
     ]
    },
    {
     "name": "stderr",
     "output_type": "stream",
     "text": [
      "Best trial: 14. Best value: 0.981573:  83%|████████▎ | 25/30 [00:53<00:14,  2.82s/it]/var/folders/p5/0wjpw3594x53gr6w8yv_trj40000gq/T/ipykernel_97050/1272272289.py:2: FutureWarning: suggest_loguniform has been deprecated in v3.0.0. This feature will be removed in v6.0.0. See https://github.com/optuna/optuna/releases/tag/v3.0.0. Use suggest_float(..., log=True) instead.\n",
      "  C = trial.suggest_loguniform(\"C\", 1e-3, 100)\n"
     ]
    },
    {
     "name": "stdout",
     "output_type": "stream",
     "text": [
      "[I 2025-07-16 18:08:45,138] Trial 24 finished with value: 0.46421087619681867 and parameters: {'C': 24.331715499175722, 'kernel': 'linear'}. Best is trial 14 with value: 0.9815725326540512.\n"
     ]
    },
    {
     "name": "stderr",
     "output_type": "stream",
     "text": [
      "Best trial: 14. Best value: 0.981573:  87%|████████▋ | 26/30 [00:53<00:08,  2.05s/it]/var/folders/p5/0wjpw3594x53gr6w8yv_trj40000gq/T/ipykernel_97050/1272272289.py:2: FutureWarning: suggest_loguniform has been deprecated in v3.0.0. This feature will be removed in v6.0.0. See https://github.com/optuna/optuna/releases/tag/v3.0.0. Use suggest_float(..., log=True) instead.\n",
      "  C = trial.suggest_loguniform(\"C\", 1e-3, 100)\n"
     ]
    },
    {
     "name": "stdout",
     "output_type": "stream",
     "text": [
      "[I 2025-07-16 18:08:45,394] Trial 25 finished with value: 0.9703799981838191 and parameters: {'C': 2.08973609195578, 'kernel': 'rbf'}. Best is trial 14 with value: 0.9815725326540512.\n"
     ]
    },
    {
     "name": "stderr",
     "output_type": "stream",
     "text": [
      "Best trial: 14. Best value: 0.981573:  90%|█████████ | 27/30 [00:53<00:04,  1.59s/it]/var/folders/p5/0wjpw3594x53gr6w8yv_trj40000gq/T/ipykernel_97050/1272272289.py:2: FutureWarning: suggest_loguniform has been deprecated in v3.0.0. This feature will be removed in v6.0.0. See https://github.com/optuna/optuna/releases/tag/v3.0.0. Use suggest_float(..., log=True) instead.\n",
      "  C = trial.suggest_loguniform(\"C\", 1e-3, 100)\n"
     ]
    },
    {
     "name": "stdout",
     "output_type": "stream",
     "text": [
      "[I 2025-07-16 18:08:45,892] Trial 26 finished with value: 0.7863498856086749 and parameters: {'C': 0.15814594453161732, 'kernel': 'rbf'}. Best is trial 14 with value: 0.9815725326540512.\n"
     ]
    },
    {
     "name": "stderr",
     "output_type": "stream",
     "text": [
      "Best trial: 14. Best value: 0.981573:  93%|█████████▎| 28/30 [00:54<00:02,  1.18s/it]/var/folders/p5/0wjpw3594x53gr6w8yv_trj40000gq/T/ipykernel_97050/1272272289.py:2: FutureWarning: suggest_loguniform has been deprecated in v3.0.0. This feature will be removed in v6.0.0. See https://github.com/optuna/optuna/releases/tag/v3.0.0. Use suggest_float(..., log=True) instead.\n",
      "  C = trial.suggest_loguniform(\"C\", 1e-3, 100)\n",
      "Best trial: 14. Best value: 0.981573:  97%|█████████▋| 29/30 [00:54<00:00,  1.14it/s]/var/folders/p5/0wjpw3594x53gr6w8yv_trj40000gq/T/ipykernel_97050/1272272289.py:2: FutureWarning: suggest_loguniform has been deprecated in v3.0.0. This feature will be removed in v6.0.0. See https://github.com/optuna/optuna/releases/tag/v3.0.0. Use suggest_float(..., log=True) instead.\n",
      "  C = trial.suggest_loguniform(\"C\", 1e-3, 100)\n"
     ]
    },
    {
     "name": "stdout",
     "output_type": "stream",
     "text": [
      "[I 2025-07-16 18:08:46,133] Trial 27 finished with value: 0.9703799981838191 and parameters: {'C': 2.561132889709658, 'kernel': 'rbf'}. Best is trial 14 with value: 0.9815725326540512.\n",
      "[I 2025-07-16 18:08:46,286] Trial 28 finished with value: 0.9799038271414474 and parameters: {'C': 28.65861185396658, 'kernel': 'rbf'}. Best is trial 14 with value: 0.9815725326540512.\n"
     ]
    },
    {
     "name": "stderr",
     "output_type": "stream",
     "text": [
      "Best trial: 14. Best value: 0.981573: 100%|██████████| 30/30 [00:55<00:00,  1.83s/it]"
     ]
    },
    {
     "name": "stdout",
     "output_type": "stream",
     "text": [
      "[I 2025-07-16 18:08:47,007] Trial 29 finished with value: 0.7989436410163391 and parameters: {'C': 32.49125009211688, 'kernel': 'poly', 'degree': 2}. Best is trial 14 with value: 0.9815725326540512.\n",
      "Melhores hiperparâmetros encontrados:\n",
      "{'C': 9.754981741396318, 'kernel': 'rbf'}\n",
      "Melhor F1 médio (CV): 0.9816\n"
     ]
    },
    {
     "name": "stderr",
     "output_type": "stream",
     "text": [
      "\n"
     ]
    }
   ],
   "source": [
    "def objective(trial):\n",
    "    C = trial.suggest_loguniform(\"C\", 1e-3, 100)\n",
    "    kernel = trial.suggest_categorical(\"kernel\", [\"rbf\", \"linear\", \"poly\", \"sigmoid\"])\n",
    "    # Parâmetros adicionais para poly\n",
    "    degree = 3\n",
    "    if kernel == \"poly\":\n",
    "        degree = trial.suggest_int(\"degree\", 2, 5)\n",
    "    svm = SVC(\n",
    "        C=C,\n",
    "        kernel=kernel,\n",
    "        degree=degree,\n",
    "        probability=True,\n",
    "        class_weight=\"balanced\",\n",
    "        random_state=42,\n",
    "    )\n",
    "    pipe = Pipeline(\n",
    "        [\n",
    "            (\"svm\", svm),\n",
    "        ]\n",
    "    )\n",
    "    cv = StratifiedKFold(n_splits=5, shuffle=True, random_state=42)\n",
    "    scores = cross_val_score(\n",
    "        pipe, X_train, y_train, cv=cv, scoring=make_scorer(f1_score)\n",
    "    )\n",
    "    return scores.mean()\n",
    "\n",
    "\n",
    "study = optuna.create_study(direction=\"maximize\")\n",
    "study.optimize(objective, n_trials=30, show_progress_bar=True)\n",
    "\n",
    "print(\"Melhores hiperparâmetros encontrados:\")\n",
    "print(study.best_params)\n",
    "print(f\"Melhor F1 médio (CV): {study.best_value:.4f}\")\n"
   ]
  },
  {
   "cell_type": "code",
   "execution_count": null,
   "id": "ffd6a9a4",
   "metadata": {},
   "outputs": [],
   "source": []
  }
 ],
 "metadata": {
  "kernelspec": {
   "display_name": ".venv",
   "language": "python",
   "name": "python3"
  },
  "language_info": {
   "codemirror_mode": {
    "name": "ipython",
    "version": 3
   },
   "file_extension": ".py",
   "mimetype": "text/x-python",
   "name": "python",
   "nbconvert_exporter": "python",
   "pygments_lexer": "ipython3",
   "version": "3.12.9"
  }
 },
 "nbformat": 4,
 "nbformat_minor": 5
}
