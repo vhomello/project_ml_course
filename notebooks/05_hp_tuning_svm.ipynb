{
 "cells": [
  {
   "cell_type": "code",
   "execution_count": 1,
   "id": "865ec204",
   "metadata": {},
   "outputs": [
    {
     "name": "stderr",
     "output_type": "stream",
     "text": [
      "/Users/vitor.mello/vho/project_ml_course/.venv/lib/python3.12/site-packages/tqdm/auto.py:21: TqdmWarning: IProgress not found. Please update jupyter and ipywidgets. See https://ipywidgets.readthedocs.io/en/stable/user_install.html\n",
      "  from .autonotebook import tqdm as notebook_tqdm\n"
     ]
    }
   ],
   "source": [
    "import optuna\n",
    "import pandas as pd\n",
    "from sklearn.svm import SVC\n",
    "from sklearn.pipeline import Pipeline\n",
    "from sklearn.decomposition import PCA\n",
    "from sklearn.preprocessing import StandardScaler\n",
    "from sklearn.model_selection import cross_val_score, StratifiedKFold\n",
    "from sklearn.metrics import f1_score, make_scorer\n",
    "from sklearn.model_selection import train_test_split\n",
    "\n",
    "from project_ml_course.data_process import filter_columns_by_correlation_threshold"
   ]
  },
  {
   "cell_type": "code",
   "execution_count": null,
   "id": "802f000d",
   "metadata": {},
   "outputs": [],
   "source": [
    "raw_df = pd.read_csv(\"../data/dados.csv\", index_col=\"Unnamed: 0\")\n",
    "\n",
    "df = filter_columns_by_correlation_threshold(\n",
    "    df=raw_df,\n",
    "    ref_col=\"class\",\n",
    "    method_type=\"pearson\",\n",
    "    lower_threshold=0.001,\n",
    "    higher_threshold=0.999,\n",
    ")\n",
    "\n",
    "X = df.drop(columns=[\"class\"])\n",
    "y = df[\"class\"]\n",
    "\n",
    "# Separar treino e teste\n",
    "X_train, X_test, y_train, y_test = train_test_split(\n",
    "    X, y, test_size=0.2, random_state=42, stratify=y\n",
    ")"
   ]
  },
  {
   "cell_type": "code",
   "execution_count": 3,
   "id": "f74a3025",
   "metadata": {},
   "outputs": [
    {
     "name": "stderr",
     "output_type": "stream",
     "text": [
      "[I 2025-07-15 21:48:00,712] A new study created in memory with name: no-name-f55bfbf8-4d55-4920-ac0e-74df5da97103\n",
      "  0%|          | 0/30 [00:00<?, ?it/s]/var/folders/p5/0wjpw3594x53gr6w8yv_trj40000gq/T/ipykernel_37394/190903671.py:2: FutureWarning: suggest_loguniform has been deprecated in v3.0.0. This feature will be removed in v6.0.0. See https://github.com/optuna/optuna/releases/tag/v3.0.0. Use suggest_float(..., log=True) instead.\n",
      "  C = trial.suggest_loguniform(\"C\", 1e-3, 100)\n",
      "Best trial: 0. Best value: 0.574879:   3%|▎         | 1/30 [00:00<00:12,  2.36it/s]/var/folders/p5/0wjpw3594x53gr6w8yv_trj40000gq/T/ipykernel_37394/190903671.py:2: FutureWarning: suggest_loguniform has been deprecated in v3.0.0. This feature will be removed in v6.0.0. See https://github.com/optuna/optuna/releases/tag/v3.0.0. Use suggest_float(..., log=True) instead.\n",
      "  C = trial.suggest_loguniform(\"C\", 1e-3, 100)\n"
     ]
    },
    {
     "name": "stdout",
     "output_type": "stream",
     "text": [
      "[I 2025-07-15 21:48:01,142] Trial 0 finished with value: 0.5748794307449971 and parameters: {'C': 0.01707661096569344, 'kernel': 'poly', 'degree': 3}. Best is trial 0 with value: 0.5748794307449971.\n"
     ]
    },
    {
     "name": "stderr",
     "output_type": "stream",
     "text": [
      "Best trial: 0. Best value: 0.574879:   7%|▋         | 2/30 [00:00<00:11,  2.48it/s]/var/folders/p5/0wjpw3594x53gr6w8yv_trj40000gq/T/ipykernel_37394/190903671.py:2: FutureWarning: suggest_loguniform has been deprecated in v3.0.0. This feature will be removed in v6.0.0. See https://github.com/optuna/optuna/releases/tag/v3.0.0. Use suggest_float(..., log=True) instead.\n",
      "  C = trial.suggest_loguniform(\"C\", 1e-3, 100)\n"
     ]
    },
    {
     "name": "stdout",
     "output_type": "stream",
     "text": [
      "[I 2025-07-15 21:48:01,532] Trial 1 finished with value: 0.4377400423258053 and parameters: {'C': 24.582642407691132, 'kernel': 'sigmoid'}. Best is trial 0 with value: 0.5748794307449971.\n"
     ]
    },
    {
     "name": "stderr",
     "output_type": "stream",
     "text": [
      "Best trial: 0. Best value: 0.574879:  10%|█         | 3/30 [00:27<05:35, 12.43s/it]/var/folders/p5/0wjpw3594x53gr6w8yv_trj40000gq/T/ipykernel_37394/190903671.py:2: FutureWarning: suggest_loguniform has been deprecated in v3.0.0. This feature will be removed in v6.0.0. See https://github.com/optuna/optuna/releases/tag/v3.0.0. Use suggest_float(..., log=True) instead.\n",
      "  C = trial.suggest_loguniform(\"C\", 1e-3, 100)\n"
     ]
    },
    {
     "name": "stdout",
     "output_type": "stream",
     "text": [
      "[I 2025-07-15 21:48:28,281] Trial 2 finished with value: 0.4682718665386935 and parameters: {'C': 46.84918506717303, 'kernel': 'linear'}. Best is trial 0 with value: 0.5748794307449971.\n"
     ]
    },
    {
     "name": "stderr",
     "output_type": "stream",
     "text": [
      "Best trial: 0. Best value: 0.574879:  13%|█▎        | 4/30 [00:28<03:22,  7.78s/it]/var/folders/p5/0wjpw3594x53gr6w8yv_trj40000gq/T/ipykernel_37394/190903671.py:2: FutureWarning: suggest_loguniform has been deprecated in v3.0.0. This feature will be removed in v6.0.0. See https://github.com/optuna/optuna/releases/tag/v3.0.0. Use suggest_float(..., log=True) instead.\n",
      "  C = trial.suggest_loguniform(\"C\", 1e-3, 100)\n"
     ]
    },
    {
     "name": "stdout",
     "output_type": "stream",
     "text": [
      "[I 2025-07-15 21:48:28,929] Trial 3 finished with value: 0.5517241379310345 and parameters: {'C': 0.010081210041180146, 'kernel': 'sigmoid'}. Best is trial 0 with value: 0.5748794307449971.\n"
     ]
    },
    {
     "name": "stderr",
     "output_type": "stream",
     "text": [
      "Best trial: 4. Best value: 0.947222:  17%|█▋        | 5/30 [00:28<02:07,  5.11s/it]/var/folders/p5/0wjpw3594x53gr6w8yv_trj40000gq/T/ipykernel_37394/190903671.py:2: FutureWarning: suggest_loguniform has been deprecated in v3.0.0. This feature will be removed in v6.0.0. See https://github.com/optuna/optuna/releases/tag/v3.0.0. Use suggest_float(..., log=True) instead.\n",
      "  C = trial.suggest_loguniform(\"C\", 1e-3, 100)\n"
     ]
    },
    {
     "name": "stdout",
     "output_type": "stream",
     "text": [
      "[I 2025-07-15 21:48:29,302] Trial 4 finished with value: 0.9472222407681269 and parameters: {'C': 0.6196201569971492, 'kernel': 'rbf'}. Best is trial 4 with value: 0.9472222407681269.\n"
     ]
    },
    {
     "name": "stderr",
     "output_type": "stream",
     "text": [
      "Best trial: 4. Best value: 0.947222:  20%|██        | 6/30 [00:55<04:56, 12.36s/it]/var/folders/p5/0wjpw3594x53gr6w8yv_trj40000gq/T/ipykernel_37394/190903671.py:2: FutureWarning: suggest_loguniform has been deprecated in v3.0.0. This feature will be removed in v6.0.0. See https://github.com/optuna/optuna/releases/tag/v3.0.0. Use suggest_float(..., log=True) instead.\n",
      "  C = trial.suggest_loguniform(\"C\", 1e-3, 100)\n"
     ]
    },
    {
     "name": "stdout",
     "output_type": "stream",
     "text": [
      "[I 2025-07-15 21:48:55,744] Trial 5 finished with value: 0.4682718665386935 and parameters: {'C': 42.790300327988525, 'kernel': 'linear'}. Best is trial 4 with value: 0.9472222407681269.\n"
     ]
    },
    {
     "name": "stderr",
     "output_type": "stream",
     "text": [
      "Best trial: 4. Best value: 0.947222:  23%|██▎       | 7/30 [00:55<03:15,  8.48s/it]/var/folders/p5/0wjpw3594x53gr6w8yv_trj40000gq/T/ipykernel_37394/190903671.py:2: FutureWarning: suggest_loguniform has been deprecated in v3.0.0. This feature will be removed in v6.0.0. See https://github.com/optuna/optuna/releases/tag/v3.0.0. Use suggest_float(..., log=True) instead.\n",
      "  C = trial.suggest_loguniform(\"C\", 1e-3, 100)\n"
     ]
    },
    {
     "name": "stdout",
     "output_type": "stream",
     "text": [
      "[I 2025-07-15 21:48:56,238] Trial 6 finished with value: 0.5719513286334719 and parameters: {'C': 0.05594519926202318, 'kernel': 'poly', 'degree': 5}. Best is trial 4 with value: 0.9472222407681269.\n"
     ]
    },
    {
     "name": "stderr",
     "output_type": "stream",
     "text": [
      "Best trial: 4. Best value: 0.947222:  27%|██▋       | 8/30 [00:55<02:10,  5.92s/it]/var/folders/p5/0wjpw3594x53gr6w8yv_trj40000gq/T/ipykernel_37394/190903671.py:2: FutureWarning: suggest_loguniform has been deprecated in v3.0.0. This feature will be removed in v6.0.0. See https://github.com/optuna/optuna/releases/tag/v3.0.0. Use suggest_float(..., log=True) instead.\n",
      "  C = trial.suggest_loguniform(\"C\", 1e-3, 100)\n"
     ]
    },
    {
     "name": "stdout",
     "output_type": "stream",
     "text": [
      "[I 2025-07-15 21:48:56,685] Trial 7 finished with value: 0.4474469819834225 and parameters: {'C': 0.9251687983228754, 'kernel': 'sigmoid'}. Best is trial 4 with value: 0.9472222407681269.\n"
     ]
    },
    {
     "name": "stderr",
     "output_type": "stream",
     "text": [
      "Best trial: 4. Best value: 0.947222:  30%|███       | 9/30 [00:56<01:29,  4.27s/it]/var/folders/p5/0wjpw3594x53gr6w8yv_trj40000gq/T/ipykernel_37394/190903671.py:2: FutureWarning: suggest_loguniform has been deprecated in v3.0.0. This feature will be removed in v6.0.0. See https://github.com/optuna/optuna/releases/tag/v3.0.0. Use suggest_float(..., log=True) instead.\n",
      "  C = trial.suggest_loguniform(\"C\", 1e-3, 100)\n"
     ]
    },
    {
     "name": "stdout",
     "output_type": "stream",
     "text": [
      "[I 2025-07-15 21:48:57,320] Trial 8 finished with value: 0.5238116733840872 and parameters: {'C': 0.12100387985951283, 'kernel': 'sigmoid'}. Best is trial 4 with value: 0.9472222407681269.\n"
     ]
    },
    {
     "name": "stderr",
     "output_type": "stream",
     "text": [
      "Best trial: 4. Best value: 0.947222:  33%|███▎      | 10/30 [00:57<01:01,  3.08s/it]/var/folders/p5/0wjpw3594x53gr6w8yv_trj40000gq/T/ipykernel_37394/190903671.py:2: FutureWarning: suggest_loguniform has been deprecated in v3.0.0. This feature will be removed in v6.0.0. See https://github.com/optuna/optuna/releases/tag/v3.0.0. Use suggest_float(..., log=True) instead.\n",
      "  C = trial.suggest_loguniform(\"C\", 1e-3, 100)\n"
     ]
    },
    {
     "name": "stdout",
     "output_type": "stream",
     "text": [
      "[I 2025-07-15 21:48:57,739] Trial 9 finished with value: 0.711847057934293 and parameters: {'C': 0.0022106771673140336, 'kernel': 'poly', 'degree': 4}. Best is trial 4 with value: 0.9472222407681269.\n"
     ]
    },
    {
     "name": "stderr",
     "output_type": "stream",
     "text": [
      "Best trial: 10. Best value: 0.965166:  37%|███▋      | 11/30 [00:57<00:42,  2.22s/it]/var/folders/p5/0wjpw3594x53gr6w8yv_trj40000gq/T/ipykernel_37394/190903671.py:2: FutureWarning: suggest_loguniform has been deprecated in v3.0.0. This feature will be removed in v6.0.0. See https://github.com/optuna/optuna/releases/tag/v3.0.0. Use suggest_float(..., log=True) instead.\n",
      "  C = trial.suggest_loguniform(\"C\", 1e-3, 100)\n"
     ]
    },
    {
     "name": "stdout",
     "output_type": "stream",
     "text": [
      "[I 2025-07-15 21:48:58,016] Trial 10 finished with value: 0.9651656175821899 and parameters: {'C': 1.610032058333692, 'kernel': 'rbf'}. Best is trial 10 with value: 0.9651656175821899.\n"
     ]
    },
    {
     "name": "stderr",
     "output_type": "stream",
     "text": [
      "Best trial: 10. Best value: 0.965166:  40%|████      | 12/30 [00:57<00:29,  1.64s/it]/var/folders/p5/0wjpw3594x53gr6w8yv_trj40000gq/T/ipykernel_37394/190903671.py:2: FutureWarning: suggest_loguniform has been deprecated in v3.0.0. This feature will be removed in v6.0.0. See https://github.com/optuna/optuna/releases/tag/v3.0.0. Use suggest_float(..., log=True) instead.\n",
      "  C = trial.suggest_loguniform(\"C\", 1e-3, 100)\n"
     ]
    },
    {
     "name": "stdout",
     "output_type": "stream",
     "text": [
      "[I 2025-07-15 21:48:58,330] Trial 11 finished with value: 0.9579126837312859 and parameters: {'C': 1.1030907407164943, 'kernel': 'rbf'}. Best is trial 10 with value: 0.9651656175821899.\n"
     ]
    },
    {
     "name": "stderr",
     "output_type": "stream",
     "text": [
      "Best trial: 12. Best value: 0.973289:  43%|████▎     | 13/30 [00:57<00:20,  1.21s/it]/var/folders/p5/0wjpw3594x53gr6w8yv_trj40000gq/T/ipykernel_37394/190903671.py:2: FutureWarning: suggest_loguniform has been deprecated in v3.0.0. This feature will be removed in v6.0.0. See https://github.com/optuna/optuna/releases/tag/v3.0.0. Use suggest_float(..., log=True) instead.\n",
      "  C = trial.suggest_loguniform(\"C\", 1e-3, 100)\n"
     ]
    },
    {
     "name": "stdout",
     "output_type": "stream",
     "text": [
      "[I 2025-07-15 21:48:58,551] Trial 12 finished with value: 0.9732890010273287 and parameters: {'C': 3.9185388759211035, 'kernel': 'rbf'}. Best is trial 12 with value: 0.9732890010273287.\n"
     ]
    },
    {
     "name": "stderr",
     "output_type": "stream",
     "text": [
      "Best trial: 12. Best value: 0.973289:  47%|████▋     | 14/30 [00:58<00:14,  1.10it/s]/var/folders/p5/0wjpw3594x53gr6w8yv_trj40000gq/T/ipykernel_37394/190903671.py:2: FutureWarning: suggest_loguniform has been deprecated in v3.0.0. This feature will be removed in v6.0.0. See https://github.com/optuna/optuna/releases/tag/v3.0.0. Use suggest_float(..., log=True) instead.\n",
      "  C = trial.suggest_loguniform(\"C\", 1e-3, 100)\n",
      "Best trial: 14. Best value: 0.975477:  50%|█████     | 15/30 [00:58<00:10,  1.44it/s]/var/folders/p5/0wjpw3594x53gr6w8yv_trj40000gq/T/ipykernel_37394/190903671.py:2: FutureWarning: suggest_loguniform has been deprecated in v3.0.0. This feature will be removed in v6.0.0. See https://github.com/optuna/optuna/releases/tag/v3.0.0. Use suggest_float(..., log=True) instead.\n",
      "  C = trial.suggest_loguniform(\"C\", 1e-3, 100)\n"
     ]
    },
    {
     "name": "stdout",
     "output_type": "stream",
     "text": [
      "[I 2025-07-15 21:48:58,766] Trial 13 finished with value: 0.9732890010273287 and parameters: {'C': 4.442975063072061, 'kernel': 'rbf'}. Best is trial 12 with value: 0.9732890010273287.\n",
      "[I 2025-07-15 21:48:58,964] Trial 14 finished with value: 0.9754767132586007 and parameters: {'C': 6.516999487755443, 'kernel': 'rbf'}. Best is trial 14 with value: 0.9754767132586007.\n"
     ]
    },
    {
     "name": "stderr",
     "output_type": "stream",
     "text": [
      "Best trial: 15. Best value: 0.976957:  53%|█████▎    | 16/30 [00:58<00:07,  1.84it/s]/var/folders/p5/0wjpw3594x53gr6w8yv_trj40000gq/T/ipykernel_37394/190903671.py:2: FutureWarning: suggest_loguniform has been deprecated in v3.0.0. This feature will be removed in v6.0.0. See https://github.com/optuna/optuna/releases/tag/v3.0.0. Use suggest_float(..., log=True) instead.\n",
      "  C = trial.suggest_loguniform(\"C\", 1e-3, 100)\n"
     ]
    },
    {
     "name": "stdout",
     "output_type": "stream",
     "text": [
      "[I 2025-07-15 21:48:59,152] Trial 15 finished with value: 0.9769570109575352 and parameters: {'C': 7.70469630752824, 'kernel': 'rbf'}. Best is trial 15 with value: 0.9769570109575352.\n"
     ]
    },
    {
     "name": "stderr",
     "output_type": "stream",
     "text": [
      "Best trial: 16. Best value: 0.97846:  57%|█████▋    | 17/30 [00:58<00:05,  2.25it/s] /var/folders/p5/0wjpw3594x53gr6w8yv_trj40000gq/T/ipykernel_37394/190903671.py:2: FutureWarning: suggest_loguniform has been deprecated in v3.0.0. This feature will be removed in v6.0.0. See https://github.com/optuna/optuna/releases/tag/v3.0.0. Use suggest_float(..., log=True) instead.\n",
      "  C = trial.suggest_loguniform(\"C\", 1e-3, 100)\n",
      "Best trial: 16. Best value: 0.97846:  60%|██████    | 18/30 [00:58<00:04,  2.76it/s]/var/folders/p5/0wjpw3594x53gr6w8yv_trj40000gq/T/ipykernel_37394/190903671.py:2: FutureWarning: suggest_loguniform has been deprecated in v3.0.0. This feature will be removed in v6.0.0. See https://github.com/optuna/optuna/releases/tag/v3.0.0. Use suggest_float(..., log=True) instead.\n",
      "  C = trial.suggest_loguniform(\"C\", 1e-3, 100)\n"
     ]
    },
    {
     "name": "stdout",
     "output_type": "stream",
     "text": [
      "[I 2025-07-15 21:48:59,365] Trial 16 finished with value: 0.9784599917708607 and parameters: {'C': 10.251516094582083, 'kernel': 'rbf'}. Best is trial 16 with value: 0.9784599917708607.\n",
      "[I 2025-07-15 21:48:59,538] Trial 17 finished with value: 0.9784599917708607 and parameters: {'C': 18.157108597726467, 'kernel': 'rbf'}. Best is trial 16 with value: 0.9784599917708607.\n"
     ]
    },
    {
     "name": "stderr",
     "output_type": "stream",
     "text": [
      "Best trial: 16. Best value: 0.97846:  63%|██████▎   | 19/30 [00:58<00:03,  3.33it/s]/var/folders/p5/0wjpw3594x53gr6w8yv_trj40000gq/T/ipykernel_37394/190903671.py:2: FutureWarning: suggest_loguniform has been deprecated in v3.0.0. This feature will be removed in v6.0.0. See https://github.com/optuna/optuna/releases/tag/v3.0.0. Use suggest_float(..., log=True) instead.\n",
      "  C = trial.suggest_loguniform(\"C\", 1e-3, 100)\n"
     ]
    },
    {
     "name": "stdout",
     "output_type": "stream",
     "text": [
      "[I 2025-07-15 21:48:59,694] Trial 18 finished with value: 0.9752880746622781 and parameters: {'C': 84.44876262570618, 'kernel': 'rbf'}. Best is trial 16 with value: 0.9784599917708607.\n"
     ]
    },
    {
     "name": "stderr",
     "output_type": "stream",
     "text": [
      "Best trial: 16. Best value: 0.97846:  67%|██████▋   | 20/30 [01:02<00:11,  1.15s/it]/var/folders/p5/0wjpw3594x53gr6w8yv_trj40000gq/T/ipykernel_37394/190903671.py:2: FutureWarning: suggest_loguniform has been deprecated in v3.0.0. This feature will be removed in v6.0.0. See https://github.com/optuna/optuna/releases/tag/v3.0.0. Use suggest_float(..., log=True) instead.\n",
      "  C = trial.suggest_loguniform(\"C\", 1e-3, 100)\n"
     ]
    },
    {
     "name": "stdout",
     "output_type": "stream",
     "text": [
      "[I 2025-07-15 21:49:02,821] Trial 19 finished with value: 0.4674604086384483 and parameters: {'C': 15.358877472978646, 'kernel': 'linear'}. Best is trial 16 with value: 0.9784599917708607.\n"
     ]
    },
    {
     "name": "stderr",
     "output_type": "stream",
     "text": [
      "Best trial: 16. Best value: 0.97846:  70%|███████   | 21/30 [01:02<00:08,  1.06it/s]/var/folders/p5/0wjpw3594x53gr6w8yv_trj40000gq/T/ipykernel_37394/190903671.py:2: FutureWarning: suggest_loguniform has been deprecated in v3.0.0. This feature will be removed in v6.0.0. See https://github.com/optuna/optuna/releases/tag/v3.0.0. Use suggest_float(..., log=True) instead.\n",
      "  C = trial.suggest_loguniform(\"C\", 1e-3, 100)\n",
      "Best trial: 16. Best value: 0.97846:  73%|███████▎  | 22/30 [01:02<00:05,  1.40it/s]/var/folders/p5/0wjpw3594x53gr6w8yv_trj40000gq/T/ipykernel_37394/190903671.py:2: FutureWarning: suggest_loguniform has been deprecated in v3.0.0. This feature will be removed in v6.0.0. See https://github.com/optuna/optuna/releases/tag/v3.0.0. Use suggest_float(..., log=True) instead.\n",
      "  C = trial.suggest_loguniform(\"C\", 1e-3, 100)\n"
     ]
    },
    {
     "name": "stdout",
     "output_type": "stream",
     "text": [
      "[I 2025-07-15 21:49:03,283] Trial 20 finished with value: 0.7804361941455698 and parameters: {'C': 0.22882833881881712, 'kernel': 'rbf'}. Best is trial 16 with value: 0.9784599917708607.\n",
      "[I 2025-07-15 21:49:03,461] Trial 21 finished with value: 0.9776586314710534 and parameters: {'C': 12.106327315451981, 'kernel': 'rbf'}. Best is trial 16 with value: 0.9784599917708607.\n"
     ]
    },
    {
     "name": "stderr",
     "output_type": "stream",
     "text": [
      "Best trial: 16. Best value: 0.97846:  77%|███████▋  | 23/30 [01:02<00:03,  1.82it/s]/var/folders/p5/0wjpw3594x53gr6w8yv_trj40000gq/T/ipykernel_37394/190903671.py:2: FutureWarning: suggest_loguniform has been deprecated in v3.0.0. This feature will be removed in v6.0.0. See https://github.com/optuna/optuna/releases/tag/v3.0.0. Use suggest_float(..., log=True) instead.\n",
      "  C = trial.suggest_loguniform(\"C\", 1e-3, 100)\n"
     ]
    },
    {
     "name": "stdout",
     "output_type": "stream",
     "text": [
      "[I 2025-07-15 21:49:03,630] Trial 22 finished with value: 0.976149190783017 and parameters: {'C': 15.78244229330851, 'kernel': 'rbf'}. Best is trial 16 with value: 0.9784599917708607.\n"
     ]
    },
    {
     "name": "stderr",
     "output_type": "stream",
     "text": [
      "Best trial: 16. Best value: 0.97846:  80%|████████  | 24/30 [01:03<00:02,  2.19it/s]/var/folders/p5/0wjpw3594x53gr6w8yv_trj40000gq/T/ipykernel_37394/190903671.py:2: FutureWarning: suggest_loguniform has been deprecated in v3.0.0. This feature will be removed in v6.0.0. See https://github.com/optuna/optuna/releases/tag/v3.0.0. Use suggest_float(..., log=True) instead.\n",
      "  C = trial.suggest_loguniform(\"C\", 1e-3, 100)\n",
      "Best trial: 16. Best value: 0.97846:  83%|████████▎ | 25/30 [01:03<00:01,  2.69it/s]/var/folders/p5/0wjpw3594x53gr6w8yv_trj40000gq/T/ipykernel_37394/190903671.py:2: FutureWarning: suggest_loguniform has been deprecated in v3.0.0. This feature will be removed in v6.0.0. See https://github.com/optuna/optuna/releases/tag/v3.0.0. Use suggest_float(..., log=True) instead.\n",
      "  C = trial.suggest_loguniform(\"C\", 1e-3, 100)\n"
     ]
    },
    {
     "name": "stdout",
     "output_type": "stream",
     "text": [
      "[I 2025-07-15 21:49:03,870] Trial 23 finished with value: 0.9717686005964186 and parameters: {'C': 2.8213630791345228, 'kernel': 'rbf'}. Best is trial 16 with value: 0.9784599917708607.\n",
      "[I 2025-07-15 21:49:04,044] Trial 24 finished with value: 0.9776586314710534 and parameters: {'C': 12.543698493288383, 'kernel': 'rbf'}. Best is trial 16 with value: 0.9784599917708607.\n"
     ]
    },
    {
     "name": "stderr",
     "output_type": "stream",
     "text": [
      "Best trial: 16. Best value: 0.97846:  87%|████████▋ | 26/30 [01:03<00:01,  3.26it/s]/var/folders/p5/0wjpw3594x53gr6w8yv_trj40000gq/T/ipykernel_37394/190903671.py:2: FutureWarning: suggest_loguniform has been deprecated in v3.0.0. This feature will be removed in v6.0.0. See https://github.com/optuna/optuna/releases/tag/v3.0.0. Use suggest_float(..., log=True) instead.\n",
      "  C = trial.suggest_loguniform(\"C\", 1e-3, 100)\n",
      "Best trial: 16. Best value: 0.97846:  90%|█████████ | 27/30 [01:03<00:00,  3.83it/s]/var/folders/p5/0wjpw3594x53gr6w8yv_trj40000gq/T/ipykernel_37394/190903671.py:2: FutureWarning: suggest_loguniform has been deprecated in v3.0.0. This feature will be removed in v6.0.0. See https://github.com/optuna/optuna/releases/tag/v3.0.0. Use suggest_float(..., log=True) instead.\n",
      "  C = trial.suggest_loguniform(\"C\", 1e-3, 100)\n"
     ]
    },
    {
     "name": "stdout",
     "output_type": "stream",
     "text": [
      "[I 2025-07-15 21:49:04,199] Trial 25 finished with value: 0.9783595171608905 and parameters: {'C': 45.0792661189634, 'kernel': 'rbf'}. Best is trial 16 with value: 0.9784599917708607.\n",
      "[I 2025-07-15 21:49:04,353] Trial 26 finished with value: 0.9760719066648518 and parameters: {'C': 85.40575273871015, 'kernel': 'rbf'}. Best is trial 16 with value: 0.9784599917708607.\n"
     ]
    },
    {
     "name": "stderr",
     "output_type": "stream",
     "text": [
      "Best trial: 16. Best value: 0.97846:  93%|█████████▎| 28/30 [01:04<00:00,  2.78it/s]/var/folders/p5/0wjpw3594x53gr6w8yv_trj40000gq/T/ipykernel_37394/190903671.py:2: FutureWarning: suggest_loguniform has been deprecated in v3.0.0. This feature will be removed in v6.0.0. See https://github.com/optuna/optuna/releases/tag/v3.0.0. Use suggest_float(..., log=True) instead.\n",
      "  C = trial.suggest_loguniform(\"C\", 1e-3, 100)\n"
     ]
    },
    {
     "name": "stdout",
     "output_type": "stream",
     "text": [
      "[I 2025-07-15 21:49:04,944] Trial 27 finished with value: 0.798942512038718 and parameters: {'C': 26.404956329062642, 'kernel': 'poly', 'degree': 2}. Best is trial 16 with value: 0.9784599917708607.\n"
     ]
    },
    {
     "name": "stderr",
     "output_type": "stream",
     "text": [
      "Best trial: 16. Best value: 0.97846:  97%|█████████▋| 29/30 [01:04<00:00,  3.06it/s]/var/folders/p5/0wjpw3594x53gr6w8yv_trj40000gq/T/ipykernel_37394/190903671.py:2: FutureWarning: suggest_loguniform has been deprecated in v3.0.0. This feature will be removed in v6.0.0. See https://github.com/optuna/optuna/releases/tag/v3.0.0. Use suggest_float(..., log=True) instead.\n",
      "  C = trial.suggest_loguniform(\"C\", 1e-3, 100)\n"
     ]
    },
    {
     "name": "stdout",
     "output_type": "stream",
     "text": [
      "[I 2025-07-15 21:49:05,193] Trial 28 finished with value: 0.9695565633254255 and parameters: {'C': 2.4009748448419623, 'kernel': 'rbf'}. Best is trial 16 with value: 0.9784599917708607.\n"
     ]
    },
    {
     "name": "stderr",
     "output_type": "stream",
     "text": [
      "Best trial: 16. Best value: 0.97846: 100%|██████████| 30/30 [01:04<00:00,  2.17s/it]"
     ]
    },
    {
     "name": "stdout",
     "output_type": "stream",
     "text": [
      "[I 2025-07-15 21:49:05,669] Trial 29 finished with value: 0.468012329996804 and parameters: {'C': 0.44706323454078883, 'kernel': 'linear'}. Best is trial 16 with value: 0.9784599917708607.\n",
      "Melhores hiperparâmetros encontrados:\n",
      "{'C': 10.251516094582083, 'kernel': 'rbf'}\n",
      "Melhor F1 médio (CV): 0.9785\n"
     ]
    },
    {
     "name": "stderr",
     "output_type": "stream",
     "text": [
      "\n"
     ]
    }
   ],
   "source": [
    "def objective(trial):\n",
    "    C = trial.suggest_loguniform(\"C\", 1e-3, 100)\n",
    "    kernel = trial.suggest_categorical(\"kernel\", [\"rbf\", \"linear\", \"poly\", \"sigmoid\"])\n",
    "    # Parâmetros adicionais para poly\n",
    "    degree = 3\n",
    "    if kernel == \"poly\":\n",
    "        degree = trial.suggest_int(\"degree\", 2, 5)\n",
    "    svm = SVC(\n",
    "        C=C,\n",
    "        kernel=kernel,\n",
    "        degree=degree,\n",
    "        probability=True,\n",
    "        class_weight=\"balanced\",\n",
    "        random_state=42,\n",
    "    )\n",
    "    pipe = Pipeline(\n",
    "        [\n",
    "            (\"scaler\", StandardScaler(with_std=False)),\n",
    "            (\"pca\", PCA(n_components=3, random_state=42)),\n",
    "            (\"svm\", svm),\n",
    "        ]\n",
    "    )\n",
    "    cv = StratifiedKFold(n_splits=5, shuffle=True, random_state=42)\n",
    "    scores = cross_val_score(\n",
    "        pipe, X_train, y_train, cv=cv, scoring=make_scorer(f1_score)\n",
    "    )\n",
    "    return scores.mean()\n",
    "\n",
    "\n",
    "study = optuna.create_study(direction=\"maximize\")\n",
    "study.optimize(objective, n_trials=30, show_progress_bar=True)\n",
    "\n",
    "print(\"Melhores hiperparâmetros encontrados:\")\n",
    "print(study.best_params)\n",
    "print(f\"Melhor F1 médio (CV): {study.best_value:.4f}\")\n"
   ]
  }
 ],
 "metadata": {
  "kernelspec": {
   "display_name": ".venv",
   "language": "python",
   "name": "python3"
  },
  "language_info": {
   "codemirror_mode": {
    "name": "ipython",
    "version": 3
   },
   "file_extension": ".py",
   "mimetype": "text/x-python",
   "name": "python",
   "nbconvert_exporter": "python",
   "pygments_lexer": "ipython3",
   "version": "3.12.9"
  }
 },
 "nbformat": 4,
 "nbformat_minor": 5
}
